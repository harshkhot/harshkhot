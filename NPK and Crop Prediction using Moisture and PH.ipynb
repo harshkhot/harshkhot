{
 "cells": [
  {
   "cell_type": "code",
   "execution_count": 1,
   "metadata": {},
   "outputs": [],
   "source": [
    "from sklearn.ensemble import AdaBoostClassifier \n",
    "from sklearn.tree import DecisionTreeClassifier\n",
    "import pandas as pd\n",
    "from sklearn.ensemble import AdaBoostClassifier\n",
    "from sklearn.tree import DecisionTreeClassifier\n",
    "from sklearn import metrics\n",
    "from sklearn.tree import DecisionTreeClassifier\n",
    "from sklearn.model_selection import train_test_split\n",
    "from sklearn.metrics import roc_curve,roc_auc_score,f1_score\n",
    "from sklearn.ensemble import RandomForestClassifier\n",
    "from sklearn.metrics import confusion_matrix\n",
    "from sklearn.metrics import accuracy_score\n",
    "from sklearn.metrics import roc_curve\n",
    "from sklearn.metrics import f1_score\n",
    "from sklearn.metrics import precision_score,recall_score\n",
    "from sklearn.metrics import roc_auc_score,roc_curve\n",
    "import pandas as pd\n",
    "import numpy as np\n",
    "from sklearn.model_selection import train_test_split\n",
    "from sklearn.metrics import confusion_matrix\n",
    "import pickle\n",
    "from sklearn.preprocessing import LabelEncoder"
   ]
  },
  {
   "cell_type": "code",
   "execution_count": 2,
   "metadata": {},
   "outputs": [
    {
     "data": {
      "text/html": [
       "<div>\n",
       "<style scoped>\n",
       "    .dataframe tbody tr th:only-of-type {\n",
       "        vertical-align: middle;\n",
       "    }\n",
       "\n",
       "    .dataframe tbody tr th {\n",
       "        vertical-align: top;\n",
       "    }\n",
       "\n",
       "    .dataframe thead th {\n",
       "        text-align: right;\n",
       "    }\n",
       "</style>\n",
       "<table border=\"1\" class=\"dataframe\">\n",
       "  <thead>\n",
       "    <tr style=\"text-align: right;\">\n",
       "      <th></th>\n",
       "      <th>Temparature</th>\n",
       "      <th>Humidity</th>\n",
       "      <th>Moisture</th>\n",
       "      <th>Soil Type</th>\n",
       "      <th>Crop Type</th>\n",
       "      <th>Nitrogen</th>\n",
       "      <th>Potassium</th>\n",
       "      <th>Phosphorous</th>\n",
       "      <th>Fertilizer Name</th>\n",
       "    </tr>\n",
       "  </thead>\n",
       "  <tbody>\n",
       "    <tr>\n",
       "      <th>0</th>\n",
       "      <td>26</td>\n",
       "      <td>52</td>\n",
       "      <td>38</td>\n",
       "      <td>Sandy</td>\n",
       "      <td>Maize</td>\n",
       "      <td>37</td>\n",
       "      <td>0</td>\n",
       "      <td>0</td>\n",
       "      <td>Urea</td>\n",
       "    </tr>\n",
       "  </tbody>\n",
       "</table>\n",
       "</div>"
      ],
      "text/plain": [
       "   Temparature  Humidity   Moisture Soil Type Crop Type  Nitrogen  Potassium  \\\n",
       "0           26         52        38     Sandy     Maize        37          0   \n",
       "\n",
       "   Phosphorous Fertilizer Name  \n",
       "0            0            Urea  "
      ]
     },
     "execution_count": 2,
     "metadata": {},
     "output_type": "execute_result"
    }
   ],
   "source": [
    "ferti=pd.read_csv(\"FertilizerPrediction.csv\",encoding ='latin1')\n",
    "ferti.head(1)"
   ]
  },
  {
   "cell_type": "code",
   "execution_count": 3,
   "metadata": {},
   "outputs": [],
   "source": [
    "import random\n",
    "lst=[]\n",
    "for i in range(101):\n",
    "    n=random.randint(2,11)\n",
    "    lst.append(n)"
   ]
  },
  {
   "cell_type": "code",
   "execution_count": 4,
   "metadata": {},
   "outputs": [],
   "source": [
    "df1=pd.DataFrame(lst,columns=['ph-value'])"
   ]
  },
  {
   "cell_type": "code",
   "execution_count": 5,
   "metadata": {},
   "outputs": [
    {
     "data": {
      "text/html": [
       "<div>\n",
       "<style scoped>\n",
       "    .dataframe tbody tr th:only-of-type {\n",
       "        vertical-align: middle;\n",
       "    }\n",
       "\n",
       "    .dataframe tbody tr th {\n",
       "        vertical-align: top;\n",
       "    }\n",
       "\n",
       "    .dataframe thead th {\n",
       "        text-align: right;\n",
       "    }\n",
       "</style>\n",
       "<table border=\"1\" class=\"dataframe\">\n",
       "  <thead>\n",
       "    <tr style=\"text-align: right;\">\n",
       "      <th></th>\n",
       "      <th>Temparature</th>\n",
       "      <th>Humidity</th>\n",
       "      <th>Moisture</th>\n",
       "      <th>Soil Type</th>\n",
       "      <th>Crop Type</th>\n",
       "      <th>Nitrogen</th>\n",
       "      <th>Potassium</th>\n",
       "      <th>Phosphorous</th>\n",
       "      <th>Fertilizer Name</th>\n",
       "      <th>ph-value</th>\n",
       "    </tr>\n",
       "  </thead>\n",
       "  <tbody>\n",
       "    <tr>\n",
       "      <th>0</th>\n",
       "      <td>26</td>\n",
       "      <td>52</td>\n",
       "      <td>38</td>\n",
       "      <td>Sandy</td>\n",
       "      <td>Maize</td>\n",
       "      <td>37</td>\n",
       "      <td>0</td>\n",
       "      <td>0</td>\n",
       "      <td>Urea</td>\n",
       "      <td>2</td>\n",
       "    </tr>\n",
       "    <tr>\n",
       "      <th>1</th>\n",
       "      <td>29</td>\n",
       "      <td>52</td>\n",
       "      <td>45</td>\n",
       "      <td>Loamy</td>\n",
       "      <td>Sugarcane</td>\n",
       "      <td>12</td>\n",
       "      <td>0</td>\n",
       "      <td>36</td>\n",
       "      <td>DAP</td>\n",
       "      <td>2</td>\n",
       "    </tr>\n",
       "    <tr>\n",
       "      <th>2</th>\n",
       "      <td>34</td>\n",
       "      <td>65</td>\n",
       "      <td>62</td>\n",
       "      <td>Black</td>\n",
       "      <td>Cotton</td>\n",
       "      <td>7</td>\n",
       "      <td>9</td>\n",
       "      <td>30</td>\n",
       "      <td>14-35-14</td>\n",
       "      <td>6</td>\n",
       "    </tr>\n",
       "    <tr>\n",
       "      <th>3</th>\n",
       "      <td>32</td>\n",
       "      <td>62</td>\n",
       "      <td>34</td>\n",
       "      <td>Red</td>\n",
       "      <td>Tobacco</td>\n",
       "      <td>22</td>\n",
       "      <td>0</td>\n",
       "      <td>20</td>\n",
       "      <td>28-28</td>\n",
       "      <td>6</td>\n",
       "    </tr>\n",
       "    <tr>\n",
       "      <th>4</th>\n",
       "      <td>28</td>\n",
       "      <td>54</td>\n",
       "      <td>46</td>\n",
       "      <td>Clayey</td>\n",
       "      <td>Paddy</td>\n",
       "      <td>35</td>\n",
       "      <td>0</td>\n",
       "      <td>0</td>\n",
       "      <td>Urea</td>\n",
       "      <td>6</td>\n",
       "    </tr>\n",
       "    <tr>\n",
       "      <th>...</th>\n",
       "      <td>...</td>\n",
       "      <td>...</td>\n",
       "      <td>...</td>\n",
       "      <td>...</td>\n",
       "      <td>...</td>\n",
       "      <td>...</td>\n",
       "      <td>...</td>\n",
       "      <td>...</td>\n",
       "      <td>...</td>\n",
       "      <td>...</td>\n",
       "    </tr>\n",
       "    <tr>\n",
       "      <th>94</th>\n",
       "      <td>25</td>\n",
       "      <td>50</td>\n",
       "      <td>32</td>\n",
       "      <td>Clayey</td>\n",
       "      <td>Pulses</td>\n",
       "      <td>24</td>\n",
       "      <td>0</td>\n",
       "      <td>19</td>\n",
       "      <td>28-28</td>\n",
       "      <td>10</td>\n",
       "    </tr>\n",
       "    <tr>\n",
       "      <th>95</th>\n",
       "      <td>30</td>\n",
       "      <td>60</td>\n",
       "      <td>27</td>\n",
       "      <td>Red</td>\n",
       "      <td>Tobacco</td>\n",
       "      <td>4</td>\n",
       "      <td>17</td>\n",
       "      <td>17</td>\n",
       "      <td>10-26-26</td>\n",
       "      <td>2</td>\n",
       "    </tr>\n",
       "    <tr>\n",
       "      <th>96</th>\n",
       "      <td>38</td>\n",
       "      <td>72</td>\n",
       "      <td>51</td>\n",
       "      <td>Loamy</td>\n",
       "      <td>Wheat</td>\n",
       "      <td>39</td>\n",
       "      <td>0</td>\n",
       "      <td>0</td>\n",
       "      <td>Urea</td>\n",
       "      <td>5</td>\n",
       "    </tr>\n",
       "    <tr>\n",
       "      <th>97</th>\n",
       "      <td>36</td>\n",
       "      <td>60</td>\n",
       "      <td>43</td>\n",
       "      <td>Sandy</td>\n",
       "      <td>Millets</td>\n",
       "      <td>15</td>\n",
       "      <td>0</td>\n",
       "      <td>41</td>\n",
       "      <td>DAP</td>\n",
       "      <td>10</td>\n",
       "    </tr>\n",
       "    <tr>\n",
       "      <th>98</th>\n",
       "      <td>29</td>\n",
       "      <td>58</td>\n",
       "      <td>57</td>\n",
       "      <td>Black</td>\n",
       "      <td>Sugarcane</td>\n",
       "      <td>12</td>\n",
       "      <td>0</td>\n",
       "      <td>10</td>\n",
       "      <td>20-20</td>\n",
       "      <td>4</td>\n",
       "    </tr>\n",
       "  </tbody>\n",
       "</table>\n",
       "<p>99 rows × 10 columns</p>\n",
       "</div>"
      ],
      "text/plain": [
       "    Temparature  Humidity   Moisture Soil Type  Crop Type  Nitrogen  \\\n",
       "0            26         52        38     Sandy      Maize        37   \n",
       "1            29         52        45     Loamy  Sugarcane        12   \n",
       "2            34         65        62     Black     Cotton         7   \n",
       "3            32         62        34       Red    Tobacco        22   \n",
       "4            28         54        46    Clayey      Paddy        35   \n",
       "..          ...        ...       ...       ...        ...       ...   \n",
       "94           25         50        32    Clayey     Pulses        24   \n",
       "95           30         60        27       Red    Tobacco         4   \n",
       "96           38         72        51     Loamy      Wheat        39   \n",
       "97           36         60        43     Sandy    Millets        15   \n",
       "98           29         58        57     Black  Sugarcane        12   \n",
       "\n",
       "    Potassium  Phosphorous Fertilizer Name  ph-value  \n",
       "0           0            0            Urea         2  \n",
       "1           0           36             DAP         2  \n",
       "2           9           30        14-35-14         6  \n",
       "3           0           20           28-28         6  \n",
       "4           0            0            Urea         6  \n",
       "..        ...          ...             ...       ...  \n",
       "94          0           19           28-28        10  \n",
       "95         17           17        10-26-26         2  \n",
       "96          0            0            Urea         5  \n",
       "97          0           41             DAP        10  \n",
       "98          0           10           20-20         4  \n",
       "\n",
       "[99 rows x 10 columns]"
      ]
     },
     "execution_count": 5,
     "metadata": {},
     "output_type": "execute_result"
    }
   ],
   "source": [
    "new_df=ferti.join(df1)\n",
    "new_df"
   ]
  },
  {
   "cell_type": "code",
   "execution_count": 6,
   "metadata": {},
   "outputs": [
    {
     "data": {
      "text/html": [
       "<div>\n",
       "<style scoped>\n",
       "    .dataframe tbody tr th:only-of-type {\n",
       "        vertical-align: middle;\n",
       "    }\n",
       "\n",
       "    .dataframe tbody tr th {\n",
       "        vertical-align: top;\n",
       "    }\n",
       "\n",
       "    .dataframe thead th {\n",
       "        text-align: right;\n",
       "    }\n",
       "</style>\n",
       "<table border=\"1\" class=\"dataframe\">\n",
       "  <thead>\n",
       "    <tr style=\"text-align: right;\">\n",
       "      <th></th>\n",
       "      <th>Moisture</th>\n",
       "      <th>ph-value</th>\n",
       "      <th>Nitrogen</th>\n",
       "      <th>Potassium</th>\n",
       "      <th>Phosphorous</th>\n",
       "    </tr>\n",
       "  </thead>\n",
       "  <tbody>\n",
       "    <tr>\n",
       "      <th>0</th>\n",
       "      <td>38</td>\n",
       "      <td>2</td>\n",
       "      <td>37</td>\n",
       "      <td>0</td>\n",
       "      <td>0</td>\n",
       "    </tr>\n",
       "    <tr>\n",
       "      <th>1</th>\n",
       "      <td>45</td>\n",
       "      <td>2</td>\n",
       "      <td>12</td>\n",
       "      <td>0</td>\n",
       "      <td>36</td>\n",
       "    </tr>\n",
       "    <tr>\n",
       "      <th>2</th>\n",
       "      <td>62</td>\n",
       "      <td>6</td>\n",
       "      <td>7</td>\n",
       "      <td>9</td>\n",
       "      <td>30</td>\n",
       "    </tr>\n",
       "    <tr>\n",
       "      <th>3</th>\n",
       "      <td>34</td>\n",
       "      <td>6</td>\n",
       "      <td>22</td>\n",
       "      <td>0</td>\n",
       "      <td>20</td>\n",
       "    </tr>\n",
       "    <tr>\n",
       "      <th>4</th>\n",
       "      <td>46</td>\n",
       "      <td>6</td>\n",
       "      <td>35</td>\n",
       "      <td>0</td>\n",
       "      <td>0</td>\n",
       "    </tr>\n",
       "    <tr>\n",
       "      <th>...</th>\n",
       "      <td>...</td>\n",
       "      <td>...</td>\n",
       "      <td>...</td>\n",
       "      <td>...</td>\n",
       "      <td>...</td>\n",
       "    </tr>\n",
       "    <tr>\n",
       "      <th>94</th>\n",
       "      <td>32</td>\n",
       "      <td>10</td>\n",
       "      <td>24</td>\n",
       "      <td>0</td>\n",
       "      <td>19</td>\n",
       "    </tr>\n",
       "    <tr>\n",
       "      <th>95</th>\n",
       "      <td>27</td>\n",
       "      <td>2</td>\n",
       "      <td>4</td>\n",
       "      <td>17</td>\n",
       "      <td>17</td>\n",
       "    </tr>\n",
       "    <tr>\n",
       "      <th>96</th>\n",
       "      <td>51</td>\n",
       "      <td>5</td>\n",
       "      <td>39</td>\n",
       "      <td>0</td>\n",
       "      <td>0</td>\n",
       "    </tr>\n",
       "    <tr>\n",
       "      <th>97</th>\n",
       "      <td>43</td>\n",
       "      <td>10</td>\n",
       "      <td>15</td>\n",
       "      <td>0</td>\n",
       "      <td>41</td>\n",
       "    </tr>\n",
       "    <tr>\n",
       "      <th>98</th>\n",
       "      <td>57</td>\n",
       "      <td>4</td>\n",
       "      <td>12</td>\n",
       "      <td>0</td>\n",
       "      <td>10</td>\n",
       "    </tr>\n",
       "  </tbody>\n",
       "</table>\n",
       "<p>99 rows × 5 columns</p>\n",
       "</div>"
      ],
      "text/plain": [
       "    Moisture  ph-value  Nitrogen  Potassium  Phosphorous\n",
       "0         38         2        37          0            0\n",
       "1         45         2        12          0           36\n",
       "2         62         6         7          9           30\n",
       "3         34         6        22          0           20\n",
       "4         46         6        35          0            0\n",
       "..       ...       ...       ...        ...          ...\n",
       "94        32        10        24          0           19\n",
       "95        27         2         4         17           17\n",
       "96        51         5        39          0            0\n",
       "97        43        10        15          0           41\n",
       "98        57         4        12          0           10\n",
       "\n",
       "[99 rows x 5 columns]"
      ]
     },
     "execution_count": 6,
     "metadata": {},
     "output_type": "execute_result"
    }
   ],
   "source": [
    "df=new_df[['Moisture','ph-value','Nitrogen','Potassium','Phosphorous']]\n",
    "df"
   ]
  },
  {
   "cell_type": "code",
   "execution_count": 7,
   "metadata": {},
   "outputs": [],
   "source": [
    "df.to_csv(\"MoisturePHdataset.csv\")"
   ]
  },
  {
   "cell_type": "code",
   "execution_count": 8,
   "metadata": {},
   "outputs": [],
   "source": [
    "df.to_csv(\"MoisturePHdataset.csv\")"
   ]
  },
  {
   "cell_type": "code",
   "execution_count": 9,
   "metadata": {},
   "outputs": [
    {
     "data": {
      "text/plain": [
       "array([38,  2], dtype=int64)"
      ]
     },
     "execution_count": 9,
     "metadata": {},
     "output_type": "execute_result"
    }
   ],
   "source": [
    "x[0]"
   ]
  },
  {
   "cell_type": "code",
   "execution_count": 10,
   "metadata": {},
   "outputs": [
    {
     "data": {
      "text/plain": [
       "array([37], dtype=int64)"
      ]
     },
     "execution_count": 10,
     "metadata": {},
     "output_type": "execute_result"
    }
   ],
   "source": [
    "y[0]"
   ]
  },
  {
   "cell_type": "code",
   "execution_count": 11,
   "metadata": {},
   "outputs": [
    {
     "data": {
      "text/plain": [
       "array([0], dtype=int64)"
      ]
     },
     "execution_count": 11,
     "metadata": {},
     "output_type": "execute_result"
    }
   ],
   "source": [
    "y1[0]"
   ]
  },
  {
   "cell_type": "code",
   "execution_count": 12,
   "metadata": {},
   "outputs": [
    {
     "data": {
      "text/plain": [
       "array([36], dtype=int64)"
      ]
     },
     "execution_count": 12,
     "metadata": {},
     "output_type": "execute_result"
    }
   ],
   "source": [
    "y2[1]"
   ]
  },
  {
   "cell_type": "code",
   "execution_count": 13,
   "metadata": {},
   "outputs": [],
   "source": [
    "y=y.astype('int')\n",
    "y1=y1.astype('int')\n",
    "y2=y2.astype('int')"
   ]
  },
  {
   "cell_type": "code",
   "execution_count": 14,
   "metadata": {},
   "outputs": [],
   "source": [
    "ada = AdaBoostClassifier(DecisionTreeClassifier(max_depth=9),n_estimators=150)\n",
    "ada1 = AdaBoostClassifier(DecisionTreeClassifier(max_depth=9),n_estimators=150)\n",
    "ada2 = AdaBoostClassifier(DecisionTreeClassifier(max_depth=9),n_estimators=150)"
   ]
  },
  {
   "cell_type": "code",
   "execution_count": 15,
   "metadata": {},
   "outputs": [
    {
     "name": "stderr",
     "output_type": "stream",
     "text": [
      "C:\\Users\\abc\\anaconda3\\envs\\project\\lib\\site-packages\\sklearn\\utils\\validation.py:993: DataConversionWarning: A column-vector y was passed when a 1d array was expected. Please change the shape of y to (n_samples, ), for example using ravel().\n",
      "  y = column_or_1d(y, warn=True)\n",
      "C:\\Users\\abc\\anaconda3\\envs\\project\\lib\\site-packages\\sklearn\\utils\\validation.py:993: DataConversionWarning: A column-vector y was passed when a 1d array was expected. Please change the shape of y to (n_samples, ), for example using ravel().\n",
      "  y = column_or_1d(y, warn=True)\n",
      "C:\\Users\\abc\\anaconda3\\envs\\project\\lib\\site-packages\\sklearn\\utils\\validation.py:993: DataConversionWarning: A column-vector y was passed when a 1d array was expected. Please change the shape of y to (n_samples, ), for example using ravel().\n",
      "  y = column_or_1d(y, warn=True)\n"
     ]
    },
    {
     "data": {
      "text/plain": [
       "AdaBoostClassifier(base_estimator=DecisionTreeClassifier(max_depth=9),\n",
       "                   n_estimators=150)"
      ]
     },
     "execution_count": 15,
     "metadata": {},
     "output_type": "execute_result"
    }
   ],
   "source": [
    "ada.fit(x, y)\n",
    "ada1.fit(x, y1)\n",
    "ada2.fit(x, y2)"
   ]
  },
  {
   "cell_type": "code",
   "execution_count": null,
   "metadata": {},
   "outputs": [],
   "source": []
  },
  {
   "cell_type": "code",
   "execution_count": null,
   "metadata": {},
   "outputs": [],
   "source": []
  },
  {
   "cell_type": "code",
   "execution_count": null,
   "metadata": {},
   "outputs": [],
   "source": []
  },
  {
   "cell_type": "code",
   "execution_count": null,
   "metadata": {},
   "outputs": [],
   "source": []
  },
  {
   "cell_type": "code",
   "execution_count": 16,
   "metadata": {},
   "outputs": [],
   "source": [
    "import pickle\n",
    "with open('model_nitrogen_moisture_ph_ada.sav','wb') as f:\n",
    "    pickle.dump(ada,f)"
   ]
  },
  {
   "cell_type": "code",
   "execution_count": 17,
   "metadata": {},
   "outputs": [],
   "source": [
    "import pickle\n",
    "with open('model_Potassium_moisture_ph_ada.sav','wb') as f:\n",
    "    pickle.dump(ada1,f)"
   ]
  },
  {
   "cell_type": "code",
   "execution_count": 18,
   "metadata": {},
   "outputs": [],
   "source": [
    "import pickle\n",
    "with open('model_Phosphorous_moisture_ph_ada.sav','wb') as f:\n",
    "    pickle.dump(ada2,f)"
   ]
  },
  {
   "cell_type": "code",
   "execution_count": 20,
   "metadata": {},
   "outputs": [
    {
     "name": "stdout",
     "output_type": "stream",
     "text": [
      "Enter Moisture:35\n",
      "Enter Ph-Value:8\n"
     ]
    }
   ],
   "source": [
    "import pandas as pd\n",
    "dict = {'Moisture':float(input(\"Enter Moisture:\")),\n",
    "        'Ph value':float(input(\"Enter Ph-Value:\"))}\n",
    "dff=pd.DataFrame(dict,index=[0])"
   ]
  },
  {
   "cell_type": "code",
   "execution_count": 21,
   "metadata": {},
   "outputs": [
    {
     "data": {
      "text/html": [
       "<div>\n",
       "<style scoped>\n",
       "    .dataframe tbody tr th:only-of-type {\n",
       "        vertical-align: middle;\n",
       "    }\n",
       "\n",
       "    .dataframe tbody tr th {\n",
       "        vertical-align: top;\n",
       "    }\n",
       "\n",
       "    .dataframe thead th {\n",
       "        text-align: right;\n",
       "    }\n",
       "</style>\n",
       "<table border=\"1\" class=\"dataframe\">\n",
       "  <thead>\n",
       "    <tr style=\"text-align: right;\">\n",
       "      <th></th>\n",
       "      <th>Moisture</th>\n",
       "      <th>Ph value</th>\n",
       "    </tr>\n",
       "  </thead>\n",
       "  <tbody>\n",
       "    <tr>\n",
       "      <th>0</th>\n",
       "      <td>35.0</td>\n",
       "      <td>8.0</td>\n",
       "    </tr>\n",
       "  </tbody>\n",
       "</table>\n",
       "</div>"
      ],
      "text/plain": [
       "   Moisture  Ph value\n",
       "0      35.0       8.0"
      ]
     },
     "execution_count": 21,
     "metadata": {},
     "output_type": "execute_result"
    }
   ],
   "source": [
    "dff"
   ]
  },
  {
   "cell_type": "code",
   "execution_count": 22,
   "metadata": {},
   "outputs": [
    {
     "name": "stderr",
     "output_type": "stream",
     "text": [
      "C:\\Users\\abc\\anaconda3\\envs\\project\\lib\\site-packages\\sklearn\\base.py:443: UserWarning: X has feature names, but AdaBoostClassifier was fitted without feature names\n",
      "  warnings.warn(\n",
      "C:\\Users\\abc\\anaconda3\\envs\\project\\lib\\site-packages\\sklearn\\base.py:443: UserWarning: X has feature names, but AdaBoostClassifier was fitted without feature names\n",
      "  warnings.warn(\n"
     ]
    },
    {
     "name": "stdout",
     "output_type": "stream",
     "text": [
      "Nitrogen is  14\n",
      "Potassium is 0\n",
      "Phosphorous is 13\n"
     ]
    },
    {
     "name": "stderr",
     "output_type": "stream",
     "text": [
      "C:\\Users\\abc\\anaconda3\\envs\\project\\lib\\site-packages\\sklearn\\base.py:443: UserWarning: X has feature names, but AdaBoostClassifier was fitted without feature names\n",
      "  warnings.warn(\n"
     ]
    }
   ],
   "source": [
    "with open('model_nitrogen_moisture_ph_ada.sav','rb') as f:\n",
    "    ts=pickle.load(f)\n",
    "led=ts.predict(dff)\n",
    "nitrogen=led[0]\n",
    "print(\"Nitrogen is \",nitrogen)\n",
    "import pickle\n",
    "with open('model_Potassium_moisture_ph_ada.sav','rb') as f:\n",
    "    ss=pickle.load(f)\n",
    "d=ss.predict(dff)\n",
    "potassium=d[0]\n",
    "print(\"Potassium is\",potassium)\n",
    "with open('model_Phosphorous_moisture_ph_ada.sav','rb') as f:\n",
    "    st=pickle.load(f)\n",
    "ed=st.predict(dff)\n",
    "phosphorous=ed[0]\n",
    "print(\"Phosphorous is\",phosphorous)"
   ]
  },
  {
   "cell_type": "code",
   "execution_count": 23,
   "metadata": {},
   "outputs": [
    {
     "data": {
      "text/html": [
       "<div>\n",
       "<style scoped>\n",
       "    .dataframe tbody tr th:only-of-type {\n",
       "        vertical-align: middle;\n",
       "    }\n",
       "\n",
       "    .dataframe tbody tr th {\n",
       "        vertical-align: top;\n",
       "    }\n",
       "\n",
       "    .dataframe thead th {\n",
       "        text-align: right;\n",
       "    }\n",
       "</style>\n",
       "<table border=\"1\" class=\"dataframe\">\n",
       "  <thead>\n",
       "    <tr style=\"text-align: right;\">\n",
       "      <th></th>\n",
       "      <th>N</th>\n",
       "      <th>P</th>\n",
       "      <th>K</th>\n",
       "      <th>temperature</th>\n",
       "      <th>humidity</th>\n",
       "      <th>ph</th>\n",
       "      <th>rainfall</th>\n",
       "      <th>label</th>\n",
       "    </tr>\n",
       "  </thead>\n",
       "  <tbody>\n",
       "    <tr>\n",
       "      <th>0</th>\n",
       "      <td>90</td>\n",
       "      <td>42</td>\n",
       "      <td>43</td>\n",
       "      <td>20.879744</td>\n",
       "      <td>82.002744</td>\n",
       "      <td>6.502985</td>\n",
       "      <td>202.935536</td>\n",
       "      <td>rice</td>\n",
       "    </tr>\n",
       "    <tr>\n",
       "      <th>1</th>\n",
       "      <td>85</td>\n",
       "      <td>58</td>\n",
       "      <td>41</td>\n",
       "      <td>21.770462</td>\n",
       "      <td>80.319644</td>\n",
       "      <td>7.038096</td>\n",
       "      <td>226.655537</td>\n",
       "      <td>rice</td>\n",
       "    </tr>\n",
       "    <tr>\n",
       "      <th>2</th>\n",
       "      <td>60</td>\n",
       "      <td>55</td>\n",
       "      <td>44</td>\n",
       "      <td>23.004459</td>\n",
       "      <td>82.320763</td>\n",
       "      <td>7.840207</td>\n",
       "      <td>263.964248</td>\n",
       "      <td>rice</td>\n",
       "    </tr>\n",
       "    <tr>\n",
       "      <th>3</th>\n",
       "      <td>74</td>\n",
       "      <td>35</td>\n",
       "      <td>40</td>\n",
       "      <td>26.491096</td>\n",
       "      <td>80.158363</td>\n",
       "      <td>6.980401</td>\n",
       "      <td>242.864034</td>\n",
       "      <td>rice</td>\n",
       "    </tr>\n",
       "    <tr>\n",
       "      <th>4</th>\n",
       "      <td>78</td>\n",
       "      <td>42</td>\n",
       "      <td>42</td>\n",
       "      <td>20.130175</td>\n",
       "      <td>81.604873</td>\n",
       "      <td>7.628473</td>\n",
       "      <td>262.717340</td>\n",
       "      <td>rice</td>\n",
       "    </tr>\n",
       "  </tbody>\n",
       "</table>\n",
       "</div>"
      ],
      "text/plain": [
       "    N   P   K  temperature   humidity        ph    rainfall label\n",
       "0  90  42  43    20.879744  82.002744  6.502985  202.935536  rice\n",
       "1  85  58  41    21.770462  80.319644  7.038096  226.655537  rice\n",
       "2  60  55  44    23.004459  82.320763  7.840207  263.964248  rice\n",
       "3  74  35  40    26.491096  80.158363  6.980401  242.864034  rice\n",
       "4  78  42  42    20.130175  81.604873  7.628473  262.717340  rice"
      ]
     },
     "execution_count": 23,
     "metadata": {},
     "output_type": "execute_result"
    }
   ],
   "source": [
    "import pandas as pd\n",
    "croptobe=pd.read_csv(\"Crop_recommendation.csv\",encoding ='latin1')\n",
    "from sklearn import preprocessing\n",
    "import numpy as np\n",
    "croptobe.head()"
   ]
  },
  {
   "cell_type": "code",
   "execution_count": 24,
   "metadata": {},
   "outputs": [],
   "source": [
    "le = preprocessing.LabelEncoder()\n",
    "croptobe['label']=le.fit_transform(croptobe['label'])"
   ]
  },
  {
   "cell_type": "code",
   "execution_count": 25,
   "metadata": {},
   "outputs": [],
   "source": [
    "import random\n",
    "lst=[]\n",
    "for i in range(2201):\n",
    "    n = random.randint(25,65)\n",
    "    lst.append(n)\n",
    "dff=pd.DataFrame(lst,columns=['Moisture'])"
   ]
  },
  {
   "cell_type": "code",
   "execution_count": 26,
   "metadata": {},
   "outputs": [],
   "source": [
    "new_df=croptobe.join(dff)"
   ]
  },
  {
   "cell_type": "code",
   "execution_count": 27,
   "metadata": {},
   "outputs": [],
   "source": [
    "dff_new=new_df[['N','P','K','ph','Moisture','label']]"
   ]
  },
  {
   "cell_type": "code",
   "execution_count": 28,
   "metadata": {},
   "outputs": [],
   "source": [
    "x=dff_new.drop(['label'],axis=1)#independent\n",
    "y=dff_new['label']#dependent"
   ]
  },
  {
   "cell_type": "code",
   "execution_count": 29,
   "metadata": {},
   "outputs": [],
   "source": [
    "x_train,x_test , y_train, y_test = train_test_split(x, y,test_size=0.3)"
   ]
  },
  {
   "cell_type": "markdown",
   "metadata": {},
   "source": [
    "# Logistic Regression"
   ]
  },
  {
   "cell_type": "code",
   "execution_count": 30,
   "metadata": {
    "scrolled": true
   },
   "outputs": [
    {
     "name": "stderr",
     "output_type": "stream",
     "text": [
      "C:\\Users\\abc\\anaconda3\\envs\\project\\lib\\site-packages\\sklearn\\linear_model\\_logistic.py:814: ConvergenceWarning: lbfgs failed to converge (status=1):\n",
      "STOP: TOTAL NO. of ITERATIONS REACHED LIMIT.\n",
      "\n",
      "Increase the number of iterations (max_iter) or scale the data as shown in:\n",
      "    https://scikit-learn.org/stable/modules/preprocessing.html\n",
      "Please also refer to the documentation for alternative solver options:\n",
      "    https://scikit-learn.org/stable/modules/linear_model.html#logistic-regression\n",
      "  n_iter_i = _check_optimize_result(\n"
     ]
    }
   ],
   "source": [
    "from sklearn.linear_model import LogisticRegression\n",
    "\n",
    "lr = LogisticRegression()\n",
    "\n",
    "\n",
    "lr.fit(x_train,y_train)#train model\n",
    "\n",
    "Y_pred_lr = lr.predict(x_test)"
   ]
  },
  {
   "cell_type": "code",
   "execution_count": 31,
   "metadata": {},
   "outputs": [
    {
     "name": "stdout",
     "output_type": "stream",
     "text": [
      "The accuracy score achieved using Logistic Regression is: 57.73 %\n"
     ]
    }
   ],
   "source": [
    "score_lr = round(accuracy_score(Y_pred_lr,y_test)*100,2)\n",
    "\n",
    "print(\"The accuracy score achieved using Logistic Regression is: \"+str(score_lr)+\" %\")"
   ]
  },
  {
   "cell_type": "code",
   "execution_count": 32,
   "metadata": {},
   "outputs": [
    {
     "data": {
      "text/plain": [
       "<AxesSubplot:title={'center':'Logistic_Regression'}>"
      ]
     },
     "execution_count": 32,
     "metadata": {},
     "output_type": "execute_result"
    },
    {
     "data": {
      "image/png": "[encoded data removed]",
      "text/plain": [
       "<Figure size 432x288 with 1 Axes>"
      ]
     },
     "metadata": {
      "needs_background": "light"
     },
     "output_type": "display_data"
    }
   ],
   "source": [
    "import matplotlib.pyplot as plt\n",
    "import seaborn as sns\n",
    "lr_cm=confusion_matrix(y_test,Y_pred_lr)\n",
    "plt.title(\"Logistic_Regression\")\n",
    "sns.heatmap(lr_cm,annot=True,cmap=\"Blues\",fmt=\"d\",cbar=False)"
   ]
  },
  {
   "cell_type": "code",
   "execution_count": 33,
   "metadata": {},
   "outputs": [],
   "source": [
    "from sklearn import metrics\n",
    "print(score_lr=round(metrics.accuracy_score(y_test,Y_pred_lr)*100,2))\n",
    "print(score_lr_precision=metrics.precision_score(Y_pred_lr,y_test,average='macro'))\n",
    "print(score_lr_recall=round(metrics.recall_score(y_test,Y_pred_lr,average='macro')*100,2))\n",
    "print(score_lr_f1_score=round(metrics.f1_score(y_test, Y_pred_lr,average='macro')*100,2))"
   ]
  },
  {
   "cell_type": "code",
   "execution_count": 34,
   "metadata": {},
   "outputs": [],
   "source": [
    "import pickle\n",
    "with open('model_MPH_LR_newest.sav','wb') as f:\n",
    "    pickle.dump(lr,f)"
   ]
  },
  {
   "cell_type": "markdown",
   "metadata": {},
   "source": [
    "# SVM Linear "
   ]
  },
  {
   "cell_type": "code",
   "execution_count": 35,
   "metadata": {},
   "outputs": [
    {
     "name": "stdout",
     "output_type": "stream",
     "text": [
      "The accuracy score achieved using Linear SVM is: 68.03 %\n"
     ]
    }
   ],
   "source": [
    "from sklearn import svm\n",
    "\n",
    "sv = svm.SVC(kernel='linear')\n",
    "\n",
    "sv.fit(x_train, y_train)\n",
    "\n",
    "Y_pred_svm = sv.predict(x_test)\n",
    "score_svm = round(accuracy_score(Y_pred_svm,y_test)*100,2)\n",
    "\n",
    "print(\"The accuracy score achieved using Linear SVM is: \"+str(score_svm)+\" %\")"
   ]
  },
  {
   "cell_type": "code",
   "execution_count": 36,
   "metadata": {},
   "outputs": [
    {
     "data": {
      "text/plain": [
       "<AxesSubplot:title={'center':'SVM'}>"
      ]
     },
     "execution_count": 36,
     "metadata": {},
     "output_type": "execute_result"
    },
    {
     "data": {
      "image/png": "[encoded data removed]",
      "text/plain": [
       "<Figure size 432x288 with 1 Axes>"
      ]
     },
     "metadata": {
      "needs_background": "light"
     },
     "output_type": "display_data"
    }
   ],
   "source": [
    "lr_cm=confusion_matrix(y_test,Y_pred_svm)\n",
    "plt.title(\"SVM\")\n",
    "sns.heatmap(lr_cm,annot=True,cmap=\"Blues\",fmt=\"d\",cbar=False)"
   ]
  },
  {
   "cell_type": "code",
   "execution_count": 37,
   "metadata": {},
   "outputs": [],
   "source": [
    "from sklearn import metrics\n",
    "score_svm=round(metrics.accuracy_score(y_test,Y_pred_svm)*100,2)\n",
    "score_svm_precision=metrics.precision_score(Y_pred_svm,y_test,average='macro')\n",
    "score_svm_recall=round(metrics.recall_score(y_test,Y_pred_svm,average='macro')*100,2)\n",
    "score_svm_f1_score=round(metrics.f1_score(y_test,Y_pred_svm,average='macro')*100,2)"
   ]
  },
  {
   "cell_type": "code",
   "execution_count": 38,
   "metadata": {},
   "outputs": [],
   "source": [
    "import pickle\n",
    "with open('model_MPH_SVM_newest.sav','wb') as f:\n",
    "    pickle.dump(sv,f)"
   ]
  },
  {
   "cell_type": "markdown",
   "metadata": {},
   "source": [
    "# Naive Bayes "
   ]
  },
  {
   "cell_type": "code",
   "execution_count": 39,
   "metadata": {},
   "outputs": [],
   "source": [
    "from sklearn.naive_bayes import GaussianNB\n",
    "\n",
    "nb = GaussianNB()\n",
    "\n",
    "nb.fit(x_train,y_train)\n",
    "\n",
    "Y_pred_nb = nb.predict(x_test)"
   ]
  },
  {
   "cell_type": "code",
   "execution_count": 40,
   "metadata": {},
   "outputs": [
    {
     "name": "stdout",
     "output_type": "stream",
     "text": [
      "The accuracy score achieved using Naive Bayes is: 76.21 %\n"
     ]
    }
   ],
   "source": [
    "score_nb = round(accuracy_score(Y_pred_nb,y_test)*100,2)\n",
    "\n",
    "print(\"The accuracy score achieved using Naive Bayes is: \"+str(score_nb)+\" %\")"
   ]
  },
  {
   "cell_type": "code",
   "execution_count": 41,
   "metadata": {},
   "outputs": [
    {
     "data": {
      "text/plain": [
       "<AxesSubplot:title={'center':'Naive Bayes'}>"
      ]
     },
     "execution_count": 41,
     "metadata": {},
     "output_type": "execute_result"
    },
    {
     "data": {
      "image/png": "[encoded data removed]",
      "text/plain": [
       "<Figure size 432x288 with 1 Axes>"
      ]
     },
     "metadata": {
      "needs_background": "light"
     },
     "output_type": "display_data"
    }
   ],
   "source": [
    "lr_cm=confusion_matrix(y_test,Y_pred_nb)\n",
    "plt.title(\"Naive Bayes\")\n",
    "sns.heatmap(lr_cm,annot=True,cmap=\"Blues\",fmt=\"d\",cbar=False)"
   ]
  },
  {
   "cell_type": "code",
   "execution_count": 42,
   "metadata": {},
   "outputs": [],
   "source": [
    "from sklearn import metrics\n",
    "score_nb=round(metrics.accuracy_score(y_test,Y_pred_nb)*100,2)\n",
    "score_nb_precision=metrics.precision_score(Y_pred_nb,y_test,average='macro')\n",
    "score_nb_recall=round(metrics.recall_score(y_test,Y_pred_nb,average='macro')*100,2)\n",
    "score_nb_f1_score=round(metrics.f1_score(y_test,Y_pred_nb,average='macro')*100,2)"
   ]
  },
  {
   "cell_type": "code",
   "execution_count": 43,
   "metadata": {},
   "outputs": [],
   "source": [
    "import pickle\n",
    "with open('model_MPH_NB_newest.sav','wb') as f:\n",
    "    pickle.dump(nb,f)"
   ]
  },
  {
   "cell_type": "markdown",
   "metadata": {},
   "source": [
    "# Decision Tree"
   ]
  },
  {
   "cell_type": "code",
   "execution_count": 44,
   "metadata": {},
   "outputs": [
    {
     "name": "stdout",
     "output_type": "stream",
     "text": [
      "The accuracy score achieved using Decision Tree is: 75.45 %\n"
     ]
    }
   ],
   "source": [
    "dt=DecisionTreeClassifier()\n",
    "dt.fit(x_train,y_train)\n",
    "Y_pred_dt = dt.predict(x_test)\n",
    "score_dt = round(accuracy_score(Y_pred_dt,y_test)*100,2)\n",
    "\n",
    "print(\"The accuracy score achieved using Decision Tree is: \"+str(score_dt)+\" %\")"
   ]
  },
  {
   "cell_type": "code",
   "execution_count": 45,
   "metadata": {},
   "outputs": [
    {
     "data": {
      "text/plain": [
       "<AxesSubplot:title={'center':'Decision Tree'}>"
      ]
     },
     "execution_count": 45,
     "metadata": {},
     "output_type": "execute_result"
    },
    {
     "data": {
      "image/png": "[encoded data removed]",
      "text/plain": [
       "<Figure size 432x288 with 1 Axes>"
      ]
     },
     "metadata": {
      "needs_background": "light"
     },
     "output_type": "display_data"
    }
   ],
   "source": [
    "lr_cm=confusion_matrix(y_test,Y_pred_dt)\n",
    "plt.title(\"Decision Tree\")\n",
    "sns.heatmap(lr_cm,annot=True,cmap=\"Blues\",fmt=\"d\",cbar=False)"
   ]
  },
  {
   "cell_type": "code",
   "execution_count": 46,
   "metadata": {},
   "outputs": [],
   "source": [
    "from sklearn import metrics\n",
    "score_dt=round(metrics.accuracy_score(y_test,Y_pred_dt)*100,2)\n",
    "score_dt_precision=metrics.precision_score(Y_pred_dt,y_test,average='macro')\n",
    "score_dt_recall=round(metrics.recall_score(y_test,Y_pred_dt,average='macro')*100,2)\n",
    "score_dt_f1_score=round(metrics.f1_score(y_test,Y_pred_dt,average='macro')*100,2)"
   ]
  },
  {
   "cell_type": "code",
   "execution_count": 47,
   "metadata": {},
   "outputs": [],
   "source": [
    "import pickle\n",
    "with open('model_MPH_DT_newest.sav','wb') as f:\n",
    "    pickle.dump(dt,f)"
   ]
  },
  {
   "cell_type": "markdown",
   "metadata": {},
   "source": [
    "# Random Forest"
   ]
  },
  {
   "cell_type": "code",
   "execution_count": 48,
   "metadata": {},
   "outputs": [
    {
     "name": "stdout",
     "output_type": "stream",
     "text": [
      "building tree 1 of 10\n",
      "building tree 2 of 10\n",
      "building tree 3 of 10\n",
      "building tree 4 of 10\n",
      "building tree 5 of 10\n",
      "building tree 6 of 10\n",
      "building tree 7 of 10\n",
      "building tree 8 of 10\n",
      "building tree 9 of 10\n",
      "building tree 10 of 10\n"
     ]
    },
    {
     "name": "stderr",
     "output_type": "stream",
     "text": [
      "[Parallel(n_jobs=2)]: Using backend ThreadingBackend with 2 concurrent workers.\n",
      "[Parallel(n_jobs=2)]: Done  10 out of  10 | elapsed:    0.0s finished\n",
      "[Parallel(n_jobs=2)]: Using backend ThreadingBackend with 2 concurrent workers.\n",
      "[Parallel(n_jobs=2)]: Done  10 out of  10 | elapsed:    0.0s finished\n",
      "[Parallel(n_jobs=2)]: Using backend ThreadingBackend with 2 concurrent workers.\n",
      "[Parallel(n_jobs=2)]: Done  10 out of  10 | elapsed:    0.0s finished\n"
     ]
    }
   ],
   "source": [
    "rfc=RandomForestClassifier(n_estimators=10,n_jobs=2,verbose=2)\n",
    "rfc.fit(x_train,y_train)\n",
    "score_rf=rfc.score(x_test,y_test)\n",
    "Y_pred_rf = rfc.predict(x_test)\n",
    "score_rf=round(accuracy_score(Y_pred_rf,y_test)*100,2)"
   ]
  },
  {
   "cell_type": "code",
   "execution_count": 49,
   "metadata": {},
   "outputs": [
    {
     "name": "stdout",
     "output_type": "stream",
     "text": [
      "The accuracy score achieved using Random Forest is: 75.45 %\n"
     ]
    }
   ],
   "source": [
    "print(\"The accuracy score achieved using Random Forest is: \"+str(score_rf)+\" %\")"
   ]
  },
  {
   "cell_type": "code",
   "execution_count": 50,
   "metadata": {},
   "outputs": [
    {
     "data": {
      "text/plain": [
       "<AxesSubplot:title={'center':'Random Forest'}>"
      ]
     },
     "execution_count": 50,
     "metadata": {},
     "output_type": "execute_result"
    },
    {
     "data": {
      "image/png": "[encoded data removed]",
      "text/plain": [
       "<Figure size 432x288 with 1 Axes>"
      ]
     },
     "metadata": {
      "needs_background": "light"
     },
     "output_type": "display_data"
    }
   ],
   "source": [
    "lr_cm=confusion_matrix(y_test,Y_pred_dt)\n",
    "plt.title(\"Random Forest\")\n",
    "sns.heatmap(lr_cm,annot=True,cmap=\"Blues\",fmt=\"d\",cbar=False)"
   ]
  },
  {
   "cell_type": "code",
   "execution_count": 51,
   "metadata": {},
   "outputs": [],
   "source": [
    "from sklearn import metrics\n",
    "score_rf=round(metrics.accuracy_score(y_test,Y_pred_rf)*100,2)\n",
    "score_rf_precision=metrics.precision_score(Y_pred_rf,y_test,average='macro')\n",
    "score_rf_recall=round(metrics.recall_score(y_test,Y_pred_rf,average='macro')*100,2)\n",
    "score_rf_f1_score=round(metrics.f1_score(y_test,Y_pred_rf,average='macro')*100,2)"
   ]
  },
  {
   "cell_type": "code",
   "execution_count": 52,
   "metadata": {},
   "outputs": [],
   "source": [
    "import pickle\n",
    "with open('model_MPH_RF_newest.sav','wb') as f:\n",
    "    pickle.dump(rfc,f)"
   ]
  },
  {
   "cell_type": "markdown",
   "metadata": {},
   "source": [
    "# ADA Boost"
   ]
  },
  {
   "cell_type": "code",
   "execution_count": 53,
   "metadata": {},
   "outputs": [],
   "source": [
    "ada = AdaBoostClassifier(DecisionTreeClassifier(max_depth=9),n_estimators=150)\n",
    "ada.fit(x_train, y_train)\n",
    "\n",
    "ada.score(x_test,y_test)\n",
    "predictions = ada.predict(x_test)"
   ]
  },
  {
   "cell_type": "code",
   "execution_count": 54,
   "metadata": {},
   "outputs": [
    {
     "name": "stdout",
     "output_type": "stream",
     "text": [
      "The accuracy score achieved using Ada Boost is: 75.91 %\n"
     ]
    }
   ],
   "source": [
    "score_ada = round(accuracy_score(predictions,y_test)*100,2)\n",
    "\n",
    "print(\"The accuracy score achieved using Ada Boost is: \"+str(score_ada)+\" %\")"
   ]
  },
  {
   "cell_type": "code",
   "execution_count": 55,
   "metadata": {},
   "outputs": [
    {
     "data": {
      "text/plain": [
       "<AxesSubplot:title={'center':'ADA Boost'}>"
      ]
     },
     "execution_count": 55,
     "metadata": {},
     "output_type": "execute_result"
    },
    {
     "data": {
      "image/png": "[encoded data removed]",
      "text/plain": [
       "<Figure size 432x288 with 1 Axes>"
      ]
     },
     "metadata": {
      "needs_background": "light"
     },
     "output_type": "display_data"
    }
   ],
   "source": [
    "lr_cm=confusion_matrix(y_test,predictions)\n",
    "plt.title(\"ADA Boost\")\n",
    "sns.heatmap(lr_cm,annot=True,cmap=\"Blues\",fmt=\"d\",cbar=False)"
   ]
  },
  {
   "cell_type": "code",
   "execution_count": 56,
   "metadata": {},
   "outputs": [],
   "source": [
    "from sklearn import metrics\n",
    "score_ada=round(metrics.accuracy_score(y_test,predictions)*100,2)\n",
    "score_ada_precision=metrics.precision_score(predictions,y_test,average='macro')\n",
    "score_ada_recall=round(metrics.recall_score(y_test,predictions,average='macro')*100,2)\n",
    "score_ada_f1_score=round(metrics.f1_score(y_test,predictions,average='macro')*100,2)"
   ]
  },
  {
   "cell_type": "code",
   "execution_count": 57,
   "metadata": {},
   "outputs": [],
   "source": [
    "import pickle\n",
    "with open('model_MPH_ADA_newest.sav','wb') as f:\n",
    "    pickle.dump(ada,f)"
   ]
  },
  {
   "cell_type": "markdown",
   "metadata": {},
   "source": [
    "# Neural Network"
   ]
  },
  {
   "cell_type": "code",
   "execution_count": 58,
   "metadata": {},
   "outputs": [],
   "source": [
    "import tensorflow as tf\n",
    "from tensorflow import keras\n",
    "from tensorflow.keras.models import Sequential"
   ]
  },
  {
   "cell_type": "code",
   "execution_count": 59,
   "metadata": {},
   "outputs": [],
   "source": [
    "import tensorflow as tf\n",
    "from tensorflow import keras\n",
    "model=tf.keras.Sequential([\n",
    "    keras.layers.Dense(20,input_shape=x_train.shape[1:],activation='relu'),\n",
    "    keras.layers.Dense(10,activation='relu'),\n",
    "    keras.layers.Dense(22,activation='sigmoid'),\n",
    "])"
   ]
  },
  {
   "cell_type": "code",
   "execution_count": 60,
   "metadata": {},
   "outputs": [],
   "source": [
    "model.compile(optimizer='adam',loss='sparse_categorical_crossentropy',metrics=['accuracy'])"
   ]
  },
  {
   "cell_type": "code",
   "execution_count": 61,
   "metadata": {},
   "outputs": [
    {
     "name": "stdout",
     "output_type": "stream",
     "text": [
      "Epoch 1/100\n",
      "49/49 [==============================] - 0s 2ms/step - loss: 4.9886 - accuracy: 0.0883\n",
      "Epoch 2/100\n",
      "49/49 [==============================] - 0s 2ms/step - loss: 3.7858 - accuracy: 0.0916\n",
      "Epoch 3/100\n",
      "49/49 [==============================] - 0s 2ms/step - loss: 2.8743 - accuracy: 0.0461\n",
      "Epoch 4/100\n",
      "49/49 [==============================] - 0s 2ms/step - loss: 2.5273 - accuracy: 0.0403\n",
      "Epoch 5/100\n",
      "49/49 [==============================] - 0s 3ms/step - loss: 2.3921 - accuracy: 0.0422\n",
      "Epoch 6/100\n",
      "49/49 [==============================] - 0s 2ms/step - loss: 2.2870 - accuracy: 0.0481\n",
      "Epoch 7/100\n",
      "49/49 [==============================] - 0s 2ms/step - loss: 2.2049 - accuracy: 0.0532\n",
      "Epoch 8/100\n",
      "49/49 [==============================] - 0s 3ms/step - loss: 2.1478 - accuracy: 0.0656\n",
      "Epoch 9/100\n",
      "49/49 [==============================] - 0s 2ms/step - loss: 2.1098 - accuracy: 0.0643\n",
      "Epoch 10/100\n",
      "49/49 [==============================] - 0s 2ms/step - loss: 2.0828 - accuracy: 0.0714\n",
      "Epoch 11/100\n",
      "49/49 [==============================] - 0s 3ms/step - loss: 2.0547 - accuracy: 0.0708\n",
      "Epoch 12/100\n",
      "49/49 [==============================] - 0s 2ms/step - loss: 2.0347 - accuracy: 0.0708\n",
      "Epoch 13/100\n",
      "49/49 [==============================] - 0s 2ms/step - loss: 2.0026 - accuracy: 0.0747\n",
      "Epoch 14/100\n",
      "49/49 [==============================] - 0s 2ms/step - loss: 1.9720 - accuracy: 0.0747\n",
      "Epoch 15/100\n",
      "49/49 [==============================] - 0s 2ms/step - loss: 1.9567 - accuracy: 0.0734\n",
      "Epoch 16/100\n",
      "49/49 [==============================] - 0s 2ms/step - loss: 1.9374 - accuracy: 0.0688\n",
      "Epoch 17/100\n",
      "49/49 [==============================] - 0s 2ms/step - loss: 1.9184 - accuracy: 0.0714\n",
      "Epoch 18/100\n",
      "49/49 [==============================] - 0s 3ms/step - loss: 1.8603 - accuracy: 0.0649\n",
      "Epoch 19/100\n",
      "49/49 [==============================] - 0s 2ms/step - loss: 1.8015 - accuracy: 0.0578\n",
      "Epoch 20/100\n",
      "49/49 [==============================] - 0s 2ms/step - loss: 1.7545 - accuracy: 0.0552\n",
      "Epoch 21/100\n",
      "49/49 [==============================] - 0s 2ms/step - loss: 1.7313 - accuracy: 0.0571\n",
      "Epoch 22/100\n",
      "49/49 [==============================] - 0s 2ms/step - loss: 1.7002 - accuracy: 0.0565\n",
      "Epoch 23/100\n",
      "49/49 [==============================] - 0s 2ms/step - loss: 1.6615 - accuracy: 0.0617\n",
      "Epoch 24/100\n",
      "49/49 [==============================] - 0s 2ms/step - loss: 1.6279 - accuracy: 0.0597\n",
      "Epoch 25/100\n",
      "49/49 [==============================] - 0s 2ms/step - loss: 1.6009 - accuracy: 0.1000\n",
      "Epoch 26/100\n",
      "49/49 [==============================] - 0s 2ms/step - loss: 1.3885 - accuracy: 0.3273\n",
      "Epoch 27/100\n",
      "49/49 [==============================] - 0s 2ms/step - loss: 1.2286 - accuracy: 0.3799\n",
      "Epoch 28/100\n",
      "49/49 [==============================] - 0s 2ms/step - loss: 1.1574 - accuracy: 0.4078\n",
      "Epoch 29/100\n",
      "49/49 [==============================] - 0s 2ms/step - loss: 1.1134 - accuracy: 0.4279\n",
      "Epoch 30/100\n",
      "49/49 [==============================] - 0s 2ms/step - loss: 1.0823 - accuracy: 0.4396\n",
      "Epoch 31/100\n",
      "49/49 [==============================] - 0s 2ms/step - loss: 1.0606 - accuracy: 0.4487\n",
      "Epoch 32/100\n",
      "49/49 [==============================] - 0s 2ms/step - loss: 1.0432 - accuracy: 0.4617\n",
      "Epoch 33/100\n",
      "49/49 [==============================] - 0s 2ms/step - loss: 1.0134 - accuracy: 0.4909\n",
      "Epoch 34/100\n",
      "49/49 [==============================] - 0s 2ms/step - loss: 0.9911 - accuracy: 0.5182\n",
      "Epoch 35/100\n",
      "49/49 [==============================] - 0s 2ms/step - loss: 0.9778 - accuracy: 0.5273\n",
      "Epoch 36/100\n",
      "49/49 [==============================] - 0s 2ms/step - loss: 0.9672 - accuracy: 0.5416\n",
      "Epoch 37/100\n",
      "49/49 [==============================] - 0s 2ms/step - loss: 0.9276 - accuracy: 0.5494\n",
      "Epoch 38/100\n",
      "49/49 [==============================] - 0s 3ms/step - loss: 0.9076 - accuracy: 0.5448\n",
      "Epoch 39/100\n",
      "49/49 [==============================] - 0s 2ms/step - loss: 0.8926 - accuracy: 0.5481\n",
      "Epoch 40/100\n",
      "49/49 [==============================] - 0s 2ms/step - loss: 0.8628 - accuracy: 0.5532\n",
      "Epoch 41/100\n",
      "49/49 [==============================] - 0s 3ms/step - loss: 0.8426 - accuracy: 0.5623\n",
      "Epoch 42/100\n",
      "49/49 [==============================] - 0s 2ms/step - loss: 0.8318 - accuracy: 0.5565\n",
      "Epoch 43/100\n",
      "49/49 [==============================] - 0s 2ms/step - loss: 0.8194 - accuracy: 0.5532\n",
      "Epoch 44/100\n",
      "49/49 [==============================] - 0s 2ms/step - loss: 0.8298 - accuracy: 0.5747\n",
      "Epoch 45/100\n",
      "49/49 [==============================] - 0s 3ms/step - loss: 0.8134 - accuracy: 0.5610\n",
      "Epoch 46/100\n",
      "49/49 [==============================] - 0s 2ms/step - loss: 0.8008 - accuracy: 0.5747\n",
      "Epoch 47/100\n",
      "49/49 [==============================] - 0s 2ms/step - loss: 0.8094 - accuracy: 0.5825\n",
      "Epoch 48/100\n",
      "49/49 [==============================] - 0s 2ms/step - loss: 0.7920 - accuracy: 0.5786\n",
      "Epoch 49/100\n",
      "49/49 [==============================] - 0s 2ms/step - loss: 0.8007 - accuracy: 0.5812\n",
      "Epoch 50/100\n",
      "49/49 [==============================] - 0s 2ms/step - loss: 0.7873 - accuracy: 0.5740\n",
      "Epoch 51/100\n",
      "49/49 [==============================] - 0s 2ms/step - loss: 0.7772 - accuracy: 0.5929\n",
      "Epoch 52/100\n",
      "49/49 [==============================] - 0s 3ms/step - loss: 0.7851 - accuracy: 0.5870\n",
      "Epoch 53/100\n",
      "49/49 [==============================] - 0s 2ms/step - loss: 0.7835 - accuracy: 0.5844\n",
      "Epoch 54/100\n",
      "49/49 [==============================] - 0s 2ms/step - loss: 0.7732 - accuracy: 0.5948\n",
      "Epoch 55/100\n",
      "49/49 [==============================] - 0s 2ms/step - loss: 0.7743 - accuracy: 0.5805\n",
      "Epoch 56/100\n",
      "49/49 [==============================] - 0s 2ms/step - loss: 0.7719 - accuracy: 0.5851\n",
      "Epoch 57/100\n",
      "49/49 [==============================] - 0s 2ms/step - loss: 0.7559 - accuracy: 0.5805\n",
      "Epoch 58/100\n",
      "49/49 [==============================] - 0s 2ms/step - loss: 0.7676 - accuracy: 0.6013\n",
      "Epoch 59/100\n",
      "49/49 [==============================] - 0s 2ms/step - loss: 0.7692 - accuracy: 0.5844\n",
      "Epoch 60/100\n",
      "49/49 [==============================] - 0s 2ms/step - loss: 0.7626 - accuracy: 0.5935\n",
      "Epoch 61/100\n",
      "49/49 [==============================] - 0s 3ms/step - loss: 0.7541 - accuracy: 0.5753\n",
      "Epoch 62/100\n",
      "49/49 [==============================] - 0s 2ms/step - loss: 0.7496 - accuracy: 0.5903\n",
      "Epoch 63/100\n",
      "49/49 [==============================] - 0s 2ms/step - loss: 0.7524 - accuracy: 0.5948\n",
      "Epoch 64/100\n",
      "49/49 [==============================] - 0s 2ms/step - loss: 0.7641 - accuracy: 0.5851\n",
      "Epoch 65/100\n",
      "49/49 [==============================] - 0s 3ms/step - loss: 0.7425 - accuracy: 0.5851\n",
      "Epoch 66/100\n",
      "49/49 [==============================] - 0s 2ms/step - loss: 0.7475 - accuracy: 0.5851\n",
      "Epoch 67/100\n",
      "49/49 [==============================] - 0s 2ms/step - loss: 0.7511 - accuracy: 0.5844\n",
      "Epoch 68/100\n",
      "49/49 [==============================] - 0s 2ms/step - loss: 0.7484 - accuracy: 0.6013\n",
      "Epoch 69/100\n",
      "49/49 [==============================] - 0s 2ms/step - loss: 0.7418 - accuracy: 0.5987\n",
      "Epoch 70/100\n",
      "49/49 [==============================] - 0s 2ms/step - loss: 0.7432 - accuracy: 0.5981\n",
      "Epoch 71/100\n",
      "49/49 [==============================] - 0s 2ms/step - loss: 0.7412 - accuracy: 0.5961\n",
      "Epoch 72/100\n",
      "49/49 [==============================] - 0s 2ms/step - loss: 0.7319 - accuracy: 0.6078\n",
      "Epoch 73/100\n",
      "49/49 [==============================] - 0s 2ms/step - loss: 0.7374 - accuracy: 0.6123\n",
      "Epoch 74/100\n",
      "49/49 [==============================] - 0s 2ms/step - loss: 0.7431 - accuracy: 0.6032\n",
      "Epoch 75/100\n",
      "49/49 [==============================] - 0s 2ms/step - loss: 0.7367 - accuracy: 0.6052\n",
      "Epoch 76/100\n",
      "49/49 [==============================] - 0s 2ms/step - loss: 0.7291 - accuracy: 0.5955\n",
      "Epoch 77/100\n",
      "49/49 [==============================] - 0s 2ms/step - loss: 0.7502 - accuracy: 0.5903\n",
      "Epoch 78/100\n",
      "49/49 [==============================] - 0s 2ms/step - loss: 0.7407 - accuracy: 0.5948\n",
      "Epoch 79/100\n",
      "49/49 [==============================] - 0s 2ms/step - loss: 0.7274 - accuracy: 0.6097\n",
      "Epoch 80/100\n",
      "49/49 [==============================] - 0s 2ms/step - loss: 0.7291 - accuracy: 0.6019\n",
      "Epoch 81/100\n",
      "49/49 [==============================] - 0s 2ms/step - loss: 0.7214 - accuracy: 0.6045\n",
      "Epoch 82/100\n",
      "49/49 [==============================] - 0s 2ms/step - loss: 0.7218 - accuracy: 0.5929\n",
      "Epoch 83/100\n",
      "49/49 [==============================] - 0s 1ms/step - loss: 0.7244 - accuracy: 0.5916\n",
      "Epoch 84/100\n",
      "49/49 [==============================] - 0s 3ms/step - loss: 0.7277 - accuracy: 0.6052\n",
      "Epoch 85/100\n",
      "49/49 [==============================] - 0s 2ms/step - loss: 0.7252 - accuracy: 0.6013\n",
      "Epoch 86/100\n",
      "49/49 [==============================] - 0s 2ms/step - loss: 0.7152 - accuracy: 0.6097\n",
      "Epoch 87/100\n",
      "49/49 [==============================] - 0s 2ms/step - loss: 0.7152 - accuracy: 0.6110\n",
      "Epoch 88/100\n",
      "49/49 [==============================] - 0s 2ms/step - loss: 0.7231 - accuracy: 0.5929\n",
      "Epoch 89/100\n",
      "49/49 [==============================] - 0s 2ms/step - loss: 0.7131 - accuracy: 0.6214\n",
      "Epoch 90/100\n",
      "49/49 [==============================] - 0s 2ms/step - loss: 0.7181 - accuracy: 0.6097\n",
      "Epoch 91/100\n",
      "49/49 [==============================] - 0s 2ms/step - loss: 0.7153 - accuracy: 0.6013\n",
      "Epoch 92/100\n",
      "49/49 [==============================] - 0s 2ms/step - loss: 0.7135 - accuracy: 0.6091\n",
      "Epoch 93/100\n",
      "49/49 [==============================] - 0s 2ms/step - loss: 0.7086 - accuracy: 0.6136\n",
      "Epoch 94/100\n",
      "49/49 [==============================] - 0s 3ms/step - loss: 0.7130 - accuracy: 0.6117\n",
      "Epoch 95/100\n",
      "49/49 [==============================] - 0s 3ms/step - loss: 0.7197 - accuracy: 0.6006\n",
      "Epoch 96/100\n",
      "49/49 [==============================] - 0s 2ms/step - loss: 0.7218 - accuracy: 0.6084\n",
      "Epoch 97/100\n",
      "49/49 [==============================] - 0s 2ms/step - loss: 0.7011 - accuracy: 0.6097\n",
      "Epoch 98/100\n",
      "49/49 [==============================] - 0s 3ms/step - loss: 0.7093 - accuracy: 0.6149\n",
      "Epoch 99/100\n",
      "49/49 [==============================] - 0s 2ms/step - loss: 0.7063 - accuracy: 0.6058\n",
      "Epoch 100/100\n",
      "49/49 [==============================] - 0s 2ms/step - loss: 0.7122 - accuracy: 0.5968\n"
     ]
    },
    {
     "data": {
      "text/plain": [
       "<tensorflow.python.keras.callbacks.History at 0x1a92b614460>"
      ]
     },
     "execution_count": 61,
     "metadata": {},
     "output_type": "execute_result"
    }
   ],
   "source": [
    "model.fit(x_train,y_train,epochs=100)"
   ]
  },
  {
   "cell_type": "code",
   "execution_count": 62,
   "metadata": {},
   "outputs": [
    {
     "name": "stdout",
     "output_type": "stream",
     "text": [
      "21/21 [==============================] - 0s 2ms/step - loss: 0.8188 - accuracy: 0.5727\n"
     ]
    },
    {
     "data": {
      "text/plain": [
       "[0.8188092112541199, 0.5727272629737854]"
      ]
     },
     "execution_count": 62,
     "metadata": {},
     "output_type": "execute_result"
    }
   ],
   "source": [
    "model.evaluate(x_test,y_test)"
   ]
  },
  {
   "cell_type": "code",
   "execution_count": 63,
   "metadata": {},
   "outputs": [],
   "source": [
    "pred=model.predict(x_test)"
   ]
  },
  {
   "cell_type": "code",
   "execution_count": null,
   "metadata": {
    "scrolled": true
   },
   "outputs": [],
   "source": []
  },
  {
   "cell_type": "code",
   "execution_count": 65,
   "metadata": {},
   "outputs": [],
   "source": [
    "pred=np.argmax(pred, axis=1)"
   ]
  },
  {
   "cell_type": "code",
   "execution_count": 66,
   "metadata": {},
   "outputs": [
    {
     "name": "stdout",
     "output_type": "stream",
     "text": [
      "21/21 [==============================] - 0s 2ms/step - loss: 0.8188 - accuracy: 0.5727\n"
     ]
    }
   ],
   "source": [
    "a=model.evaluate(x_test,y_test)"
   ]
  },
  {
   "cell_type": "code",
   "execution_count": 67,
   "metadata": {},
   "outputs": [
    {
     "data": {
      "text/plain": [
       "0.5727272629737854"
      ]
     },
     "execution_count": 67,
     "metadata": {},
     "output_type": "execute_result"
    }
   ],
   "source": [
    "a[1]"
   ]
  },
  {
   "cell_type": "code",
   "execution_count": 68,
   "metadata": {},
   "outputs": [
    {
     "name": "stdout",
     "output_type": "stream",
     "text": [
      "The Precision achieved using Logistic Regression is: 0.5894343118901002\n",
      "The Precision achieved using Support Vector Machine is: 0.6947605460959607\n",
      "The Precision achieved using Naive Bayes is: 0.7707737305944647\n",
      "The Precision achieved using Decision Tree is: 0.7487813191968347\n",
      "The Precision achieved using Random Forest is: 0.7593487793002286\n",
      "The Precision achieved using Ada Boost is: 0.7626375894291969\n"
     ]
    }
   ],
   "source": [
    "scores = [score_lr_precision,score_svm_precision,score_nb_precision,score_dt_precision,score_rf_precision,score_ada_precision]\n",
    "algorithms = [\"Logistic Regression\",\"Support Vector Machine\",\"Naive Bayes\",\"Decision Tree\",\"Random Forest\",\"Ada Boost\"]    \n",
    "\n",
    "\n",
    "for i in range(len(algorithms)):\n",
    "    print(\"The Precision achieved using \"+algorithms[i]+\" is: \"+str(scores[i]))"
   ]
  },
  {
   "cell_type": "code",
   "execution_count": 69,
   "metadata": {},
   "outputs": [
    {
     "name": "stderr",
     "output_type": "stream",
     "text": [
      "C:\\Users\\abc\\anaconda3\\envs\\project\\lib\\site-packages\\seaborn\\_decorators.py:36: FutureWarning: Pass the following variables as keyword args: x, y. From version 0.12, the only valid positional argument will be `data`, and passing other arguments without an explicit keyword will result in an error or misinterpretation.\n",
      "  warnings.warn(\n"
     ]
    },
    {
     "data": {
      "image/png": "[encoded data removed]",
      "text/plain": [
       "<Figure size 1080x576 with 1 Axes>"
      ]
     },
     "metadata": {},
     "output_type": "display_data"
    }
   ],
   "source": [
    "sns.set(rc={'figure.figsize':(15,8)})\n",
    "plt.xlabel(\"Algorithms\")\n",
    "plt.ylabel(\"Precision\")\n",
    "\n",
    "sns.barplot(algorithms,scores)\n",
    "plt.show()"
   ]
  },
  {
   "cell_type": "code",
   "execution_count": 70,
   "metadata": {},
   "outputs": [
    {
     "name": "stdout",
     "output_type": "stream",
     "text": [
      "The Recall achieved using Logistic Regression is: 58.94\n",
      "The Recall achieved using Support Vector Machine is: 69.48\n",
      "The Recall achieved using Naive Bayes is: 77.08\n",
      "The Recall achieved using Decision Tree is: 74.88\n",
      "The Recall achieved using Random Forest is: 75.93\n",
      "The Recall achieved using Ada Boost is: 76.26\n"
     ]
    }
   ],
   "source": [
    "scores = [score_lr_recall,score_svm_recall,score_nb_recall,score_dt_recall,score_rf_recall,score_ada_recall]\n",
    "algorithms = [\"Logistic Regression\",\"Support Vector Machine\",\"Naive Bayes\",\"Decision Tree\",\"Random Forest\",\"Ada Boost\"]    \n",
    "\n",
    "\n",
    "for i in range(len(algorithms)):\n",
    "    print(\"The Recall achieved using \"+algorithms[i]+\" is: \"+str(scores[i]))"
   ]
  },
  {
   "cell_type": "code",
   "execution_count": 71,
   "metadata": {},
   "outputs": [
    {
     "name": "stderr",
     "output_type": "stream",
     "text": [
      "C:\\Users\\abc\\anaconda3\\envs\\project\\lib\\site-packages\\seaborn\\_decorators.py:36: FutureWarning: Pass the following variables as keyword args: x, y. From version 0.12, the only valid positional argument will be `data`, and passing other arguments without an explicit keyword will result in an error or misinterpretation.\n",
      "  warnings.warn(\n"
     ]
    },
    {
     "data": {
      "image/png": "[encoded data removed]",
      "text/plain": [
       "<Figure size 1080x576 with 1 Axes>"
      ]
     },
     "metadata": {},
     "output_type": "display_data"
    }
   ],
   "source": [
    "sns.set(rc={'figure.figsize':(15,8)})\n",
    "plt.xlabel(\"Algorithms\")\n",
    "plt.ylabel(\"Recall\")\n",
    "\n",
    "sns.barplot(algorithms,scores)\n",
    "plt.show()"
   ]
  },
  {
   "cell_type": "code",
   "execution_count": 72,
   "metadata": {},
   "outputs": [
    {
     "name": "stdout",
     "output_type": "stream",
     "text": [
      "The F1 Score achieved using Logistic Regression is: 56.04\n",
      "The F1 Score achieved using Support Vector Machine is: 66.04\n",
      "The F1 Score achieved using Naive Bayes is: 75.52\n",
      "The F1 Score achieved using Decision Tree is: 74.44\n",
      "The F1 Score achieved using Random Forest is: 74.95\n",
      "The F1 Score achieved using Ada Boost is: 75.41\n"
     ]
    }
   ],
   "source": [
    "scores = [score_lr_f1_score,score_svm_f1_score,score_nb_f1_score,score_dt_f1_score,score_rf_f1_score,score_ada_f1_score]\n",
    "algorithms = [\"Logistic Regression\",\"Support Vector Machine\",\"Naive Bayes\",\"Decision Tree\",\"Random Forest\",\"Ada Boost\"]    \n",
    "\n",
    "\n",
    "for i in range(len(algorithms)):\n",
    "    print(\"The F1 Score achieved using \"+algorithms[i]+\" is: \"+str(scores[i]))"
   ]
  },
  {
   "cell_type": "code",
   "execution_count": 73,
   "metadata": {},
   "outputs": [
    {
     "name": "stderr",
     "output_type": "stream",
     "text": [
      "C:\\Users\\abc\\anaconda3\\envs\\project\\lib\\site-packages\\seaborn\\_decorators.py:36: FutureWarning: Pass the following variables as keyword args: x, y. From version 0.12, the only valid positional argument will be `data`, and passing other arguments without an explicit keyword will result in an error or misinterpretation.\n",
      "  warnings.warn(\n"
     ]
    },
    {
     "data": {
      "image/png": "[encoded data removed]",
      "text/plain": [
       "<Figure size 1080x576 with 1 Axes>"
      ]
     },
     "metadata": {},
     "output_type": "display_data"
    }
   ],
   "source": [
    "sns.set(rc={'figure.figsize':(15,8)})\n",
    "plt.xlabel(\"Algorithms\")\n",
    "plt.ylabel(\"F1 Score\")\n",
    "\n",
    "sns.barplot(algorithms,scores)\n",
    "plt.show()"
   ]
  },
  {
   "cell_type": "code",
   "execution_count": 74,
   "metadata": {},
   "outputs": [
    {
     "name": "stdout",
     "output_type": "stream",
     "text": [
      "The Accuracy Score achieved using Logistic Regression is: 57.73\n",
      "The Accuracy Score achieved using Support Vector Machine is: 68.03\n",
      "The Accuracy Score achieved using Naive Bayes is: 76.21\n",
      "The Accuracy Score achieved using Decision Tree is: 75.45\n",
      "The Accuracy Score achieved using Random Forest is: 75.45\n",
      "The Accuracy Score achieved using Ada Boost is: 75.91\n"
     ]
    }
   ],
   "source": [
    "scores = [score_lr,score_svm,score_nb,score_dt,score_rf,score_ada]\n",
    "algorithms = [\"Logistic Regression\",\"Support Vector Machine\",\"Naive Bayes\",\"Decision Tree\",\"Random Forest\",\"Ada Boost\"]    \n",
    "\n",
    "\n",
    "for i in range(len(algorithms)):\n",
    "    print(\"The Accuracy Score achieved using \"+algorithms[i]+\" is: \"+str(scores[i]))"
   ]
  },
  {
   "cell_type": "code",
   "execution_count": 75,
   "metadata": {},
   "outputs": [
    {
     "name": "stderr",
     "output_type": "stream",
     "text": [
      "C:\\Users\\abc\\anaconda3\\envs\\project\\lib\\site-packages\\seaborn\\_decorators.py:36: FutureWarning: Pass the following variables as keyword args: x, y. From version 0.12, the only valid positional argument will be `data`, and passing other arguments without an explicit keyword will result in an error or misinterpretation.\n",
      "  warnings.warn(\n"
     ]
    },
    {
     "data": {
      "image/png": "[encoded data removed]",
      "text/plain": [
       "<Figure size 1080x576 with 1 Axes>"
      ]
     },
     "metadata": {},
     "output_type": "display_data"
    }
   ],
   "source": [
    "sns.set(rc={'figure.figsize':(15,8)})\n",
    "plt.xlabel(\"Algorithms\")\n",
    "plt.ylabel(\"Accuracy\")\n",
    "\n",
    "sns.barplot(algorithms,scores)\n",
    "plt.show()"
   ]
  },
  {
   "cell_type": "code",
   "execution_count": 76,
   "metadata": {},
   "outputs": [
    {
     "data": {
      "text/plain": [
       "N           80.000000\n",
       "P           71.000000\n",
       "K           47.000000\n",
       "ph           6.156373\n",
       "Moisture    63.000000\n",
       "label        1.000000\n",
       "Name: 1023, dtype: float64"
      ]
     },
     "execution_count": 76,
     "metadata": {},
     "output_type": "execute_result"
    }
   ],
   "source": [
    "dff_new.loc[1023]"
   ]
  },
  {
   "cell_type": "code",
   "execution_count": 77,
   "metadata": {
    "scrolled": true
   },
   "outputs": [
    {
     "data": {
      "text/plain": [
       "array([ 2, 16, 21, 20, 21, 20,  8, 10, 13,  9,  8, 16, 13, 19,  1, 19, 19,\n",
       "        9,  1,  8, 10, 17,  1,  2,  9,  6, 12, 11,  3,  6, 12,  9, 10,  9,\n",
       "       19, 16,  8, 12, 17, 14,  8, 17, 16, 21,  9, 12,  4,  1,  1, 21, 21,\n",
       "       14,  3,  6,  6,  9,  3,  2,  9, 10,  3,  6,  5,  3, 20,  3,  3,  4,\n",
       "       10,  3, 12,  5, 19,  1, 11, 16,  9,  5, 10,  9, 15, 21, 17,  5, 14,\n",
       "        4,  3,  5,  3,  3, 12,  3,  3, 21, 14,  2, 20,  5, 15,  9, 14,  9,\n",
       "        3, 16, 12,  2, 14, 16, 15, 16,  1, 11,  2,  5,  5,  2, 13, 12,  1,\n",
       "       20,  8, 16,  3,  3, 14, 19, 14, 20, 15, 15,  9, 21, 11,  3, 14,  3,\n",
       "        1,  3, 12, 10,  3, 16,  6,  9,  9, 19, 14,  9, 16,  5, 19, 17,  9,\n",
       "       16, 11, 19, 15,  3,  3, 11, 11, 14,  9,  5, 17, 14,  3, 21, 21, 10,\n",
       "        3, 21, 15, 19, 19,  8,  3, 14,  1, 19,  3,  9,  5, 14, 17, 11, 15,\n",
       "        0, 21, 11, 13, 19, 12,  3,  8,  4,  4, 16, 10, 19,  1,  3, 16, 20,\n",
       "       14,  3,  9,  3,  9,  6, 17,  3,  5, 11, 17, 17,  2,  1, 21, 12, 10,\n",
       "       21, 21, 21,  5, 12, 21,  8,  4, 14,  1, 16, 11,  4, 21, 16,  3,  3,\n",
       "       11,  3, 19, 15,  5,  3, 10, 14, 10,  3, 20, 10,  9, 15, 14,  3,  8,\n",
       "        8,  3, 21, 19,  3,  9, 12, 12, 19, 19,  9,  3, 16,  9, 14, 11, 21,\n",
       "       19,  4, 17, 17,  3,  9, 15,  5, 14, 19,  9,  6, 10,  4,  3, 13,  8,\n",
       "        9,  9,  3,  9,  5, 14,  9, 17,  3, 15,  3, 19,  3, 14, 15, 17,  1,\n",
       "        2, 15, 11,  5,  9, 10, 13,  9,  2,  9,  6, 12, 19, 15,  6,  9, 10,\n",
       "        6,  5,  3,  1, 21, 19,  8,  5, 14,  5, 10, 11, 15, 10,  9, 14, 20,\n",
       "       11, 12,  5, 17,  3,  9, 10,  3,  2,  8,  3, 14, 15,  9,  1, 21, 19,\n",
       "        3,  4,  5,  8, 10, 16,  5, 17,  2, 12,  6, 15,  2, 12, 20, 11,  8,\n",
       "       10, 21,  4, 11,  8, 12,  9,  9, 21, 10,  3,  6,  3,  3,  9,  2,  5,\n",
       "        3, 12, 17,  6,  8, 13, 20, 15,  9, 10,  6,  6,  9, 19, 20,  4, 11,\n",
       "       10, 10,  5, 17, 14, 19,  1,  4, 11, 12,  4, 12,  8, 14, 15,  5, 17,\n",
       "        5,  9, 10, 16,  3,  3, 17,  3, 10,  3,  6,  6, 21, 21,  0,  3,  5,\n",
       "        3, 10,  5,  4, 17, 11,  3,  6, 19, 14,  3, 17,  6, 11, 15,  8, 17,\n",
       "        4,  1, 13,  3, 19,  3,  3, 19,  9,  1, 16, 19,  9,  2, 16, 14,  9,\n",
       "       19,  6,  4,  6, 19, 16, 13,  9,  5, 19,  3,  3, 19,  9,  3, 14,  3,\n",
       "        9,  4,  6,  2,  9, 21,  4, 14, 14, 21,  4,  9,  9,  3, 16,  1, 21,\n",
       "       19,  3,  1, 21, 17, 10,  2, 12,  3, 17,  4,  9,  9,  3,  1, 19,  4,\n",
       "        9,  5,  5,  3,  5,  9,  3, 11,  3, 10,  3, 12,  9,  2,  3,  3, 12,\n",
       "       14, 12, 14,  3,  3,  6, 12,  8,  6,  3,  6, 15, 14, 10, 12, 19, 15,\n",
       "        3,  6, 12,  5, 20,  8,  5,  4,  4,  9,  6,  9,  4,  5,  2, 17,  9,\n",
       "        4, 14,  3, 10, 11,  2,  4, 11, 21,  8,  9, 17,  3,  5, 11, 12, 10,\n",
       "        5,  9, 15,  9, 10, 15, 15, 16, 11, 17, 14,  8, 12,  1,  4, 19, 20,\n",
       "       19,  1,  2,  3,  4, 21,  8,  5,  9,  3, 19,  6,  8,  6,  9, 10, 14,\n",
       "        8,  6, 20, 10,  3,  2,  9, 10, 19, 11, 19,  5, 19,  2, 21,  6, 15,\n",
       "       16,  3, 17,  9,  9,  6,  9, 10,  6,  4, 14,  3,  5,  5],\n",
       "      dtype=int64)"
      ]
     },
     "execution_count": 77,
     "metadata": {},
     "output_type": "execute_result"
    }
   ],
   "source": [
    "pred"
   ]
  },
  {
   "cell_type": "code",
   "execution_count": null,
   "metadata": {},
   "outputs": [],
   "source": []
  },
  {
   "cell_type": "code",
   "execution_count": null,
   "metadata": {},
   "outputs": [],
   "source": []
  },
  {
   "cell_type": "code",
   "execution_count": 79,
   "metadata": {},
   "outputs": [
    {
     "name": "stdout",
     "output_type": "stream",
     "text": [
      "WARNING:tensorflow:From C:\\Users\\abc\\AppData\\Roaming\\Python\\Python38\\site-packages\\tensorflow\\python\\training\\tracking\\tracking.py:111: Model.state_updates (from tensorflow.python.keras.engine.training) is deprecated and will be removed in a future version.\n",
      "Instructions for updating:\n",
      "This property should not be used in TensorFlow 2.0, as updates are applied automatically.\n",
      "WARNING:tensorflow:From C:\\Users\\abc\\AppData\\Roaming\\Python\\Python38\\site-packages\\tensorflow\\python\\training\\tracking\\tracking.py:111: Layer.updates (from tensorflow.python.keras.engine.base_layer) is deprecated and will be removed in a future version.\n",
      "Instructions for updating:\n",
      "This property should not be used in TensorFlow 2.0, as updates are applied automatically.\n",
      "INFO:tensorflow:Assets written to: Neural_Networks_MPH.hp5\\assets\n"
     ]
    }
   ],
   "source": [
    "model.save('Neural_Networks_MPH.hp5')"
   ]
  },
  {
   "cell_type": "code",
   "execution_count": 80,
   "metadata": {},
   "outputs": [
    {
     "name": "stdout",
     "output_type": "stream",
     "text": [
      "Enter Moisture:38\n",
      "Enter Ph-Value:2\n"
     ]
    }
   ],
   "source": [
    "import pandas as pd\n",
    "dict = {\n",
    "        'Moisture':float(input(\"Enter Moisture:\")),\n",
    "        'Ph value':float(input(\"Enter Ph-Value:\"))}\n",
    "dff=pd.DataFrame(dict,index=[0])"
   ]
  },
  {
   "cell_type": "code",
   "execution_count": 81,
   "metadata": {},
   "outputs": [
    {
     "name": "stderr",
     "output_type": "stream",
     "text": [
      "C:\\Users\\abc\\anaconda3\\envs\\project\\lib\\site-packages\\sklearn\\base.py:443: UserWarning: X has feature names, but AdaBoostClassifier was fitted without feature names\n",
      "  warnings.warn(\n",
      "C:\\Users\\abc\\anaconda3\\envs\\project\\lib\\site-packages\\sklearn\\base.py:443: UserWarning: X has feature names, but AdaBoostClassifier was fitted without feature names\n",
      "  warnings.warn(\n",
      "C:\\Users\\abc\\anaconda3\\envs\\project\\lib\\site-packages\\sklearn\\base.py:443: UserWarning: X has feature names, but AdaBoostClassifier was fitted without feature names\n",
      "  warnings.warn(\n"
     ]
    },
    {
     "name": "stdout",
     "output_type": "stream",
     "text": [
      "Nitrogen is  37\n",
      "Potassium is 0\n",
      "Phosphorous is 0\n"
     ]
    }
   ],
   "source": [
    "with open('model_nitrogen_moisture_ph_ada.sav','rb') as f:\n",
    "    ts=pickle.load(f)\n",
    "led=ts.predict(dff)\n",
    "nitrogen=led[0]\n",
    "print(\"Nitrogen is \",nitrogen)\n",
    "import pickle\n",
    "with open('model_Potassium_moisture_ph_ada.sav','rb') as f:\n",
    "    ss=pickle.load(f)\n",
    "d=ss.predict(dff)\n",
    "potassium=d[0]\n",
    "print(\"Potassium is\",potassium)\n",
    "with open('model_Phosphorous_moisture_ph_ada.sav','rb') as f:\n",
    "    st=pickle.load(f)\n",
    "ed=st.predict(dff)\n",
    "phosphorous=ed[0]\n",
    "print(\"Phosphorous is\",phosphorous)"
   ]
  },
  {
   "cell_type": "code",
   "execution_count": 82,
   "metadata": {},
   "outputs": [
    {
     "name": "stdout",
     "output_type": "stream",
     "text": [
      "Recommended Crop By Logidtic Regression  ['coffee']\n"
     ]
    },
    {
     "name": "stderr",
     "output_type": "stream",
     "text": [
      "C:\\Users\\abc\\anaconda3\\envs\\project\\lib\\site-packages\\sklearn\\base.py:450: UserWarning: X does not have valid feature names, but LogisticRegression was fitted with feature names\n",
      "  warnings.warn(\n"
     ]
    }
   ],
   "source": [
    "with open('model_MPH_LR_newest.sav','rb') as f:\n",
    "    ts=pickle.load(f)\n",
    "led=ts.predict([[nitrogen,phosphorous,potassium,list(dff.loc[0])[0],list(dff.loc[0])[1]]])\n",
    "lr_output=led[0]\n",
    "print(\"Recommended Crop By Logidtic Regression \",le.inverse_transform([int(lr_output)]))"
   ]
  },
  {
   "cell_type": "code",
   "execution_count": 83,
   "metadata": {},
   "outputs": [
    {
     "name": "stdout",
     "output_type": "stream",
     "text": [
      "Recommended Crop By Naive Bayes  ['mothbeans']\n"
     ]
    },
    {
     "name": "stderr",
     "output_type": "stream",
     "text": [
      "C:\\Users\\abc\\anaconda3\\envs\\project\\lib\\site-packages\\sklearn\\base.py:450: UserWarning: X does not have valid feature names, but GaussianNB was fitted with feature names\n",
      "  warnings.warn(\n"
     ]
    }
   ],
   "source": [
    "with open('model_MPH_NB_newest.sav','rb') as f:\n",
    "    ts=pickle.load(f)\n",
    "led=ts.predict([[nitrogen,phosphorous,potassium,list(dff.loc[0])[0],list(dff.loc[0])[1]]])\n",
    "lr_output=led[0]\n",
    "print(\"Recommended Crop By Naive Bayes \",le.inverse_transform([int(lr_output)]))"
   ]
  },
  {
   "cell_type": "code",
   "execution_count": 84,
   "metadata": {},
   "outputs": [
    {
     "name": "stdout",
     "output_type": "stream",
     "text": [
      "Recommended Crop By Decision Tree  ['orange']\n"
     ]
    },
    {
     "name": "stderr",
     "output_type": "stream",
     "text": [
      "C:\\Users\\abc\\anaconda3\\envs\\project\\lib\\site-packages\\sklearn\\base.py:450: UserWarning: X does not have valid feature names, but DecisionTreeClassifier was fitted with feature names\n",
      "  warnings.warn(\n"
     ]
    }
   ],
   "source": [
    "with open('model_MPH_DT_newest.sav','rb') as f:\n",
    "    ts=pickle.load(f)\n",
    "led=ts.predict([[nitrogen,phosphorous,potassium,list(dff.loc[0])[0],list(dff.loc[0])[1]]])\n",
    "lr_output=led[0]\n",
    "print(\"Recommended Crop By Decision Tree \",le.inverse_transform([int(lr_output)]))"
   ]
  },
  {
   "cell_type": "code",
   "execution_count": 85,
   "metadata": {},
   "outputs": [
    {
     "name": "stdout",
     "output_type": "stream",
     "text": [
      "Recommended Crop By SVM  ['orange']\n"
     ]
    },
    {
     "name": "stderr",
     "output_type": "stream",
     "text": [
      "C:\\Users\\abc\\anaconda3\\envs\\project\\lib\\site-packages\\sklearn\\base.py:450: UserWarning: X does not have valid feature names, but SVC was fitted with feature names\n",
      "  warnings.warn(\n"
     ]
    }
   ],
   "source": [
    "with open('model_MPH_SVM_newest.sav','rb') as f:\n",
    "    ts=pickle.load(f)\n",
    "led=ts.predict([[nitrogen,phosphorous,potassium,list(dff.loc[0])[0],list(dff.loc[0])[1]]])\n",
    "lr_output=led[0]\n",
    "print(\"Recommended Crop By SVM \",le.inverse_transform([int(lr_output)]))"
   ]
  },
  {
   "cell_type": "code",
   "execution_count": 86,
   "metadata": {},
   "outputs": [
    {
     "name": "stdout",
     "output_type": "stream",
     "text": [
      "Recommended Crop By RF  ['orange']\n"
     ]
    },
    {
     "name": "stderr",
     "output_type": "stream",
     "text": [
      "C:\\Users\\abc\\anaconda3\\envs\\project\\lib\\site-packages\\sklearn\\base.py:450: UserWarning: X does not have valid feature names, but RandomForestClassifier was fitted with feature names\n",
      "  warnings.warn(\n",
      "[Parallel(n_jobs=2)]: Using backend ThreadingBackend with 2 concurrent workers.\n",
      "[Parallel(n_jobs=2)]: Done  10 out of  10 | elapsed:    0.0s finished\n"
     ]
    }
   ],
   "source": [
    "with open('model_MPH_RF_newest.sav','rb') as f:\n",
    "    ts=pickle.load(f)\n",
    "led=ts.predict([[nitrogen,phosphorous,potassium,list(dff.loc[0])[0],list(dff.loc[0])[1]]])\n",
    "lr_output=led[0]\n",
    "print(\"Recommended Crop By RF \",le.inverse_transform([int(lr_output)]))"
   ]
  },
  {
   "cell_type": "code",
   "execution_count": 87,
   "metadata": {},
   "outputs": [
    {
     "name": "stdout",
     "output_type": "stream",
     "text": [
      "Recommended Crop By ADA  ['orange']\n"
     ]
    },
    {
     "name": "stderr",
     "output_type": "stream",
     "text": [
      "C:\\Users\\abc\\anaconda3\\envs\\project\\lib\\site-packages\\sklearn\\base.py:450: UserWarning: X does not have valid feature names, but AdaBoostClassifier was fitted with feature names\n",
      "  warnings.warn(\n"
     ]
    }
   ],
   "source": [
    "with open('model_MPH_ADA_newest.sav','rb') as f:\n",
    "    ts=pickle.load(f)\n",
    "led=ts.predict([[nitrogen,phosphorous,potassium,list(dff.loc[0])[0],list(dff.loc[0])[1]]])\n",
    "lr_output=led[0]\n",
    "print(\"Recommended Crop By ADA \",le.inverse_transform([int(lr_output)]))"
   ]
  },
  {
   "cell_type": "code",
   "execution_count": 88,
   "metadata": {},
   "outputs": [
    {
     "name": "stdout",
     "output_type": "stream",
     "text": [
      "Recommended Crop By NN  ['orange']\n"
     ]
    }
   ],
   "source": [
    "import tensorflow\n",
    "filename='Neural_Networks_MPH.hp5'\n",
    "loaded_model_nn = tensorflow.keras.models.load_model(filename)\n",
    "rf=loaded_model_nn.predict([[int(nitrogen),int(phosphorous),int(potassium),int(list(dff.loc[0])[0]),int(list(dff.loc[0])[1])]])\n",
    "print(\"Recommended Crop By NN \",le.inverse_transform([int(lr_output)]))"
   ]
  },
  {
   "cell_type": "code",
   "execution_count": null,
   "metadata": {},
   "outputs": [],
   "source": []
  },
  {
   "cell_type": "code",
   "execution_count": null,
   "metadata": {},
   "outputs": [],
   "source": []
  },
  {
   "cell_type": "code",
   "execution_count": null,
   "metadata": {},
   "outputs": [],
   "source": []
  }
 ],
 "metadata": {
  "kernelspec": {
   "display_name": "Python 3",
   "language": "python",
   "name": "python3"
  },
  "language_info": {
   "codemirror_mode": {
    "name": "ipython",
    "version": 3
   },
   "file_extension": ".py",
   "mimetype": "text/x-python",
   "name": "python",
   "nbconvert_exporter": "python",
   "pygments_lexer": "ipython3",
   "version": "3.8.3"
  }
 },
 "nbformat": 4,
 "nbformat_minor": 5
}
