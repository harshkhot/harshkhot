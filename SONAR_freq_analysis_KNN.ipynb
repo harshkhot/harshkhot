{
 "cells": [
  {
   "cell_type": "code",
   "execution_count": 1,
   "metadata": {},
   "outputs": [],
   "source": [
    "import numpy as np\n",
    "import pandas as pd\n",
    "import seaborn as sns\n",
    "import matplotlib.pyplot as plt"
   ]
  },
  {
   "cell_type": "code",
   "execution_count": 3,
   "metadata": {},
   "outputs": [],
   "source": [
    "df = pd.read_csv('sonar.all-data.csv')"
   ]
  },
  {
   "cell_type": "code",
   "execution_count": 4,
   "metadata": {},
   "outputs": [
    {
     "data": {
      "text/html": [
       "<div>\n",
       "<style scoped>\n",
       "    .dataframe tbody tr th:only-of-type {\n",
       "        vertical-align: middle;\n",
       "    }\n",
       "\n",
       "    .dataframe tbody tr th {\n",
       "        vertical-align: top;\n",
       "    }\n",
       "\n",
       "    .dataframe thead th {\n",
       "        text-align: right;\n",
       "    }\n",
       "</style>\n",
       "<table border=\"1\" class=\"dataframe\">\n",
       "  <thead>\n",
       "    <tr style=\"text-align: right;\">\n",
       "      <th></th>\n",
       "      <th>Freq_1</th>\n",
       "      <th>Freq_2</th>\n",
       "      <th>Freq_3</th>\n",
       "      <th>Freq_4</th>\n",
       "      <th>Freq_5</th>\n",
       "      <th>Freq_6</th>\n",
       "      <th>Freq_7</th>\n",
       "      <th>Freq_8</th>\n",
       "      <th>Freq_9</th>\n",
       "      <th>Freq_10</th>\n",
       "      <th>...</th>\n",
       "      <th>Freq_52</th>\n",
       "      <th>Freq_53</th>\n",
       "      <th>Freq_54</th>\n",
       "      <th>Freq_55</th>\n",
       "      <th>Freq_56</th>\n",
       "      <th>Freq_57</th>\n",
       "      <th>Freq_58</th>\n",
       "      <th>Freq_59</th>\n",
       "      <th>Freq_60</th>\n",
       "      <th>Label</th>\n",
       "    </tr>\n",
       "  </thead>\n",
       "  <tbody>\n",
       "    <tr>\n",
       "      <th>0</th>\n",
       "      <td>0.0200</td>\n",
       "      <td>0.0371</td>\n",
       "      <td>0.0428</td>\n",
       "      <td>0.0207</td>\n",
       "      <td>0.0954</td>\n",
       "      <td>0.0986</td>\n",
       "      <td>0.1539</td>\n",
       "      <td>0.1601</td>\n",
       "      <td>0.3109</td>\n",
       "      <td>0.2111</td>\n",
       "      <td>...</td>\n",
       "      <td>0.0027</td>\n",
       "      <td>0.0065</td>\n",
       "      <td>0.0159</td>\n",
       "      <td>0.0072</td>\n",
       "      <td>0.0167</td>\n",
       "      <td>0.0180</td>\n",
       "      <td>0.0084</td>\n",
       "      <td>0.0090</td>\n",
       "      <td>0.0032</td>\n",
       "      <td>R</td>\n",
       "    </tr>\n",
       "    <tr>\n",
       "      <th>1</th>\n",
       "      <td>0.0453</td>\n",
       "      <td>0.0523</td>\n",
       "      <td>0.0843</td>\n",
       "      <td>0.0689</td>\n",
       "      <td>0.1183</td>\n",
       "      <td>0.2583</td>\n",
       "      <td>0.2156</td>\n",
       "      <td>0.3481</td>\n",
       "      <td>0.3337</td>\n",
       "      <td>0.2872</td>\n",
       "      <td>...</td>\n",
       "      <td>0.0084</td>\n",
       "      <td>0.0089</td>\n",
       "      <td>0.0048</td>\n",
       "      <td>0.0094</td>\n",
       "      <td>0.0191</td>\n",
       "      <td>0.0140</td>\n",
       "      <td>0.0049</td>\n",
       "      <td>0.0052</td>\n",
       "      <td>0.0044</td>\n",
       "      <td>R</td>\n",
       "    </tr>\n",
       "    <tr>\n",
       "      <th>2</th>\n",
       "      <td>0.0262</td>\n",
       "      <td>0.0582</td>\n",
       "      <td>0.1099</td>\n",
       "      <td>0.1083</td>\n",
       "      <td>0.0974</td>\n",
       "      <td>0.2280</td>\n",
       "      <td>0.2431</td>\n",
       "      <td>0.3771</td>\n",
       "      <td>0.5598</td>\n",
       "      <td>0.6194</td>\n",
       "      <td>...</td>\n",
       "      <td>0.0232</td>\n",
       "      <td>0.0166</td>\n",
       "      <td>0.0095</td>\n",
       "      <td>0.0180</td>\n",
       "      <td>0.0244</td>\n",
       "      <td>0.0316</td>\n",
       "      <td>0.0164</td>\n",
       "      <td>0.0095</td>\n",
       "      <td>0.0078</td>\n",
       "      <td>R</td>\n",
       "    </tr>\n",
       "    <tr>\n",
       "      <th>3</th>\n",
       "      <td>0.0100</td>\n",
       "      <td>0.0171</td>\n",
       "      <td>0.0623</td>\n",
       "      <td>0.0205</td>\n",
       "      <td>0.0205</td>\n",
       "      <td>0.0368</td>\n",
       "      <td>0.1098</td>\n",
       "      <td>0.1276</td>\n",
       "      <td>0.0598</td>\n",
       "      <td>0.1264</td>\n",
       "      <td>...</td>\n",
       "      <td>0.0121</td>\n",
       "      <td>0.0036</td>\n",
       "      <td>0.0150</td>\n",
       "      <td>0.0085</td>\n",
       "      <td>0.0073</td>\n",
       "      <td>0.0050</td>\n",
       "      <td>0.0044</td>\n",
       "      <td>0.0040</td>\n",
       "      <td>0.0117</td>\n",
       "      <td>R</td>\n",
       "    </tr>\n",
       "    <tr>\n",
       "      <th>4</th>\n",
       "      <td>0.0762</td>\n",
       "      <td>0.0666</td>\n",
       "      <td>0.0481</td>\n",
       "      <td>0.0394</td>\n",
       "      <td>0.0590</td>\n",
       "      <td>0.0649</td>\n",
       "      <td>0.1209</td>\n",
       "      <td>0.2467</td>\n",
       "      <td>0.3564</td>\n",
       "      <td>0.4459</td>\n",
       "      <td>...</td>\n",
       "      <td>0.0031</td>\n",
       "      <td>0.0054</td>\n",
       "      <td>0.0105</td>\n",
       "      <td>0.0110</td>\n",
       "      <td>0.0015</td>\n",
       "      <td>0.0072</td>\n",
       "      <td>0.0048</td>\n",
       "      <td>0.0107</td>\n",
       "      <td>0.0094</td>\n",
       "      <td>R</td>\n",
       "    </tr>\n",
       "  </tbody>\n",
       "</table>\n",
       "<p>5 rows × 61 columns</p>\n",
       "</div>"
      ],
      "text/plain": [
       "   Freq_1  Freq_2  Freq_3  Freq_4  Freq_5  Freq_6  Freq_7  Freq_8  Freq_9  \\\n",
       "0  0.0200  0.0371  0.0428  0.0207  0.0954  0.0986  0.1539  0.1601  0.3109   \n",
       "1  0.0453  0.0523  0.0843  0.0689  0.1183  0.2583  0.2156  0.3481  0.3337   \n",
       "2  0.0262  0.0582  0.1099  0.1083  0.0974  0.2280  0.2431  0.3771  0.5598   \n",
       "3  0.0100  0.0171  0.0623  0.0205  0.0205  0.0368  0.1098  0.1276  0.0598   \n",
       "4  0.0762  0.0666  0.0481  0.0394  0.0590  0.0649  0.1209  0.2467  0.3564   \n",
       "\n",
       "   Freq_10  ...  Freq_52  Freq_53  Freq_54  Freq_55  Freq_56  Freq_57  \\\n",
       "0   0.2111  ...   0.0027   0.0065   0.0159   0.0072   0.0167   0.0180   \n",
       "1   0.2872  ...   0.0084   0.0089   0.0048   0.0094   0.0191   0.0140   \n",
       "2   0.6194  ...   0.0232   0.0166   0.0095   0.0180   0.0244   0.0316   \n",
       "3   0.1264  ...   0.0121   0.0036   0.0150   0.0085   0.0073   0.0050   \n",
       "4   0.4459  ...   0.0031   0.0054   0.0105   0.0110   0.0015   0.0072   \n",
       "\n",
       "   Freq_58  Freq_59  Freq_60  Label  \n",
       "0   0.0084   0.0090   0.0032      R  \n",
       "1   0.0049   0.0052   0.0044      R  \n",
       "2   0.0164   0.0095   0.0078      R  \n",
       "3   0.0044   0.0040   0.0117      R  \n",
       "4   0.0048   0.0107   0.0094      R  \n",
       "\n",
       "[5 rows x 61 columns]"
      ]
     },
     "execution_count": 4,
     "metadata": {},
     "output_type": "execute_result"
    }
   ],
   "source": [
    "df.head()"
   ]
  },
  {
   "cell_type": "code",
   "execution_count": 6,
   "metadata": {},
   "outputs": [],
   "source": [
    "df['Label']=pd.get_dummies(df['Label'])"
   ]
  },
  {
   "cell_type": "code",
   "execution_count": 12,
   "metadata": {},
   "outputs": [
    {
     "data": {
      "text/plain": [
       "<matplotlib.axes._subplots.AxesSubplot at 0x1cee9f8ff70>"
      ]
     },
     "execution_count": 12,
     "metadata": {},
     "output_type": "execute_result"
    },
    {
     "data": {
      "image/png": "[encoded data removed]",
      "text/plain": [
       "<Figure size 432x288 with 2 Axes>"
      ]
     },
     "metadata": {
      "needs_background": "light"
     },
     "output_type": "display_data"
    }
   ],
   "source": [
    "# Correlation heatmap\n",
    "sns.heatmap(df.corr())"
   ]
  },
  {
   "cell_type": "code",
   "execution_count": 23,
   "metadata": {},
   "outputs": [
    {
     "data": {
      "text/plain": [
       "Label      1.000000\n",
       "Freq_11    0.432855\n",
       "Freq_12    0.392245\n",
       "Freq_49    0.351312\n",
       "Freq_10    0.341142\n",
       "Freq_45    0.339406\n",
       "Name: Label, dtype: float64"
      ]
     },
     "execution_count": 23,
     "metadata": {},
     "output_type": "execute_result"
    }
   ],
   "source": [
    "#Top 5 correlation columns\n",
    "df.corr()['Label'].sort_values(ascending=False).head(6)"
   ]
  },
  {
   "cell_type": "code",
   "execution_count": 24,
   "metadata": {},
   "outputs": [],
   "source": [
    "# Data Preprocessing\n",
    "from sklearn.model_selection import train_test_split"
   ]
  },
  {
   "cell_type": "code",
   "execution_count": 27,
   "metadata": {},
   "outputs": [],
   "source": [
    "X=df.drop('Label',axis=1)\n",
    "y=df['Label']"
   ]
  },
  {
   "cell_type": "code",
   "execution_count": 29,
   "metadata": {},
   "outputs": [],
   "source": [
    "X_train, X_eval, y_train, y_eval = train_test_split(X, y, test_size=0.2, random_state=42)"
   ]
  },
  {
   "cell_type": "code",
   "execution_count": 30,
   "metadata": {},
   "outputs": [],
   "source": [
    "X_test, X_final, y_test, y_final = train_test_split(X_eval, y_eval, test_size=0.1, random_state=42)"
   ]
  },
  {
   "cell_type": "code",
   "execution_count": 35,
   "metadata": {},
   "outputs": [],
   "source": [
    "from sklearn.preprocessing import StandardScaler\n",
    "from sklearn.neighbors import KNeighborsClassifier"
   ]
  },
  {
   "cell_type": "code",
   "execution_count": 37,
   "metadata": {},
   "outputs": [],
   "source": [
    "scaler=StandardScaler()\n",
    "knn=KNeighborsClassifier()"
   ]
  },
  {
   "cell_type": "code",
   "execution_count": 39,
   "metadata": {},
   "outputs": [],
   "source": [
    "# Pipeline Creation\n",
    "from sklearn.pipeline import Pipeline\n",
    "pipe=Pipeline([('scaler',scaler),('knn',knn)])"
   ]
  },
  {
   "cell_type": "code",
   "execution_count": 47,
   "metadata": {},
   "outputs": [],
   "source": [
    "# GridSearch to choose best hyperparameters\n",
    "from sklearn.model_selection import GridSearchCV\n",
    "k_values=list(range(1,10))\n",
    "param_grid={'knn__n_neighbors':k_values}"
   ]
  },
  {
   "cell_type": "code",
   "execution_count": 48,
   "metadata": {},
   "outputs": [],
   "source": [
    "grid_model=GridSearchCV(pipe,param_grid,cv=5,scoring='accuracy',verbose=2)"
   ]
  },
  {
   "cell_type": "code",
   "execution_count": 49,
   "metadata": {},
   "outputs": [
    {
     "name": "stdout",
     "output_type": "stream",
     "text": [
      "Fitting 5 folds for each of 9 candidates, totalling 45 fits\n",
      "[CV] knn__n_neighbors=1 ..............................................\n",
      "[CV] ............................... knn__n_neighbors=1, total=   0.1s\n",
      "[CV] knn__n_neighbors=1 ..............................................\n",
      "[CV] ............................... knn__n_neighbors=1, total=   0.0s\n",
      "[CV] knn__n_neighbors=1 ..............................................\n",
      "[CV] ............................... knn__n_neighbors=1, total=   0.0s\n",
      "[CV] knn__n_neighbors=1 ..............................................\n",
      "[CV] ............................... knn__n_neighbors=1, total=   0.0s\n",
      "[CV] knn__n_neighbors=1 ..............................................\n",
      "[CV] ............................... knn__n_neighbors=1, total=   0.0s\n",
      "[CV] knn__n_neighbors=2 ..............................................\n",
      "[CV] ............................... knn__n_neighbors=2, total=   0.0s\n",
      "[CV] knn__n_neighbors=2 ..............................................\n"
     ]
    },
    {
     "name": "stderr",
     "output_type": "stream",
     "text": [
      "[Parallel(n_jobs=1)]: Using backend SequentialBackend with 1 concurrent workers.\n",
      "[Parallel(n_jobs=1)]: Done   1 out of   1 | elapsed:    0.0s remaining:    0.0s\n"
     ]
    },
    {
     "name": "stdout",
     "output_type": "stream",
     "text": [
      "[CV] ............................... knn__n_neighbors=2, total=   0.0s\n",
      "[CV] knn__n_neighbors=2 ..............................................\n",
      "[CV] ............................... knn__n_neighbors=2, total=   0.0s\n",
      "[CV] knn__n_neighbors=2 ..............................................\n",
      "[CV] ............................... knn__n_neighbors=2, total=   0.0s\n",
      "[CV] knn__n_neighbors=2 ..............................................\n",
      "[CV] ............................... knn__n_neighbors=2, total=   0.0s\n",
      "[CV] knn__n_neighbors=3 ..............................................\n",
      "[CV] ............................... knn__n_neighbors=3, total=   0.0s\n",
      "[CV] knn__n_neighbors=3 ..............................................\n",
      "[CV] ............................... knn__n_neighbors=3, total=   0.0s\n",
      "[CV] knn__n_neighbors=3 ..............................................\n",
      "[CV] ............................... knn__n_neighbors=3, total=   0.0s\n",
      "[CV] knn__n_neighbors=3 ..............................................\n",
      "[CV] ............................... knn__n_neighbors=3, total=   0.0s\n",
      "[CV] knn__n_neighbors=3 ..............................................\n",
      "[CV] ............................... knn__n_neighbors=3, total=   0.0s\n",
      "[CV] knn__n_neighbors=4 ..............................................\n",
      "[CV] ............................... knn__n_neighbors=4, total=   0.0s\n",
      "[CV] knn__n_neighbors=4 ..............................................\n",
      "[CV] ............................... knn__n_neighbors=4, total=   0.0s\n",
      "[CV] knn__n_neighbors=4 ..............................................\n",
      "[CV] ............................... knn__n_neighbors=4, total=   0.0s\n",
      "[CV] knn__n_neighbors=4 ..............................................\n",
      "[CV] ............................... knn__n_neighbors=4, total=   0.0s\n",
      "[CV] knn__n_neighbors=4 ..............................................\n",
      "[CV] ............................... knn__n_neighbors=4, total=   0.0s\n",
      "[CV] knn__n_neighbors=5 ..............................................\n",
      "[CV] ............................... knn__n_neighbors=5, total=   0.0s\n",
      "[CV] knn__n_neighbors=5 ..............................................\n",
      "[CV] ............................... knn__n_neighbors=5, total=   0.0s\n",
      "[CV] knn__n_neighbors=5 ..............................................\n",
      "[CV] ............................... knn__n_neighbors=5, total=   0.0s\n",
      "[CV] knn__n_neighbors=5 ..............................................\n",
      "[CV] ............................... knn__n_neighbors=5, total=   0.0s\n",
      "[CV] knn__n_neighbors=5 ..............................................\n",
      "[CV] ............................... knn__n_neighbors=5, total=   0.0s\n",
      "[CV] knn__n_neighbors=6 ..............................................\n",
      "[CV] ............................... knn__n_neighbors=6, total=   0.0s\n",
      "[CV] knn__n_neighbors=6 ..............................................\n",
      "[CV] ............................... knn__n_neighbors=6, total=   0.0s\n",
      "[CV] knn__n_neighbors=6 ..............................................\n",
      "[CV] ............................... knn__n_neighbors=6, total=   0.0s\n",
      "[CV] knn__n_neighbors=6 ..............................................\n",
      "[CV] ............................... knn__n_neighbors=6, total=   0.0s\n",
      "[CV] knn__n_neighbors=6 ..............................................\n",
      "[CV] ............................... knn__n_neighbors=6, total=   0.0s\n",
      "[CV] knn__n_neighbors=7 ..............................................\n",
      "[CV] ............................... knn__n_neighbors=7, total=   0.0s\n",
      "[CV] knn__n_neighbors=7 ..............................................\n",
      "[CV] ............................... knn__n_neighbors=7, total=   0.0s\n",
      "[CV] knn__n_neighbors=7 ..............................................\n",
      "[CV] ............................... knn__n_neighbors=7, total=   0.0s\n",
      "[CV] knn__n_neighbors=7 ..............................................\n",
      "[CV] ............................... knn__n_neighbors=7, total=   0.0s\n",
      "[CV] knn__n_neighbors=7 ..............................................\n",
      "[CV] ............................... knn__n_neighbors=7, total=   0.0s\n",
      "[CV] knn__n_neighbors=8 ..............................................\n",
      "[CV] ............................... knn__n_neighbors=8, total=   0.0s\n",
      "[CV] knn__n_neighbors=8 ..............................................\n",
      "[CV] ............................... knn__n_neighbors=8, total=   0.0s\n",
      "[CV] knn__n_neighbors=8 ..............................................\n",
      "[CV] ............................... knn__n_neighbors=8, total=   0.0s\n",
      "[CV] knn__n_neighbors=8 ..............................................\n",
      "[CV] ............................... knn__n_neighbors=8, total=   0.0s\n",
      "[CV] knn__n_neighbors=8 ..............................................\n",
      "[CV] ............................... knn__n_neighbors=8, total=   0.0s\n",
      "[CV] knn__n_neighbors=9 ..............................................\n",
      "[CV] ............................... knn__n_neighbors=9, total=   0.0s\n",
      "[CV] knn__n_neighbors=9 ..............................................\n",
      "[CV] ............................... knn__n_neighbors=9, total=   0.0s\n",
      "[CV] knn__n_neighbors=9 ..............................................\n",
      "[CV] ............................... knn__n_neighbors=9, total=   0.0s\n",
      "[CV] knn__n_neighbors=9 ..............................................\n",
      "[CV] ............................... knn__n_neighbors=9, total=   0.0s\n",
      "[CV] knn__n_neighbors=9 ..............................................\n",
      "[CV] ............................... knn__n_neighbors=9, total=   0.0s\n"
     ]
    },
    {
     "name": "stderr",
     "output_type": "stream",
     "text": [
      "[Parallel(n_jobs=1)]: Done  45 out of  45 | elapsed:    0.8s finished\n"
     ]
    },
    {
     "data": {
      "text/plain": [
       "GridSearchCV(cv=5,\n",
       "             estimator=Pipeline(steps=[('scaler', StandardScaler()),\n",
       "                                       ('knn', KNeighborsClassifier())]),\n",
       "             param_grid={'knn__n_neighbors': [1, 2, 3, 4, 5, 6, 7, 8, 9]},\n",
       "             scoring='accuracy', verbose=2)"
      ]
     },
     "execution_count": 49,
     "metadata": {},
     "output_type": "execute_result"
    }
   ],
   "source": [
    "grid_model.fit(X_train,y_train)"
   ]
  },
  {
   "cell_type": "code",
   "execution_count": 50,
   "metadata": {},
   "outputs": [
    {
     "data": {
      "text/plain": [
       "{'knn__n_neighbors': 1}"
      ]
     },
     "execution_count": 50,
     "metadata": {},
     "output_type": "execute_result"
    }
   ],
   "source": [
    "grid_model.best_params_"
   ]
  },
  {
   "cell_type": "code",
   "execution_count": 63,
   "metadata": {},
   "outputs": [],
   "source": [
    "#Final model evaluation\n",
    "preds=grid_model.predict(X_eval)"
   ]
  },
  {
   "cell_type": "code",
   "execution_count": 64,
   "metadata": {},
   "outputs": [
    {
     "data": {
      "text/plain": [
       "array([1, 1, 0, 0, 1, 0, 1, 1, 0, 0, 1, 0, 1, 1, 1, 1, 1, 1, 0, 0, 1, 1,\n",
       "       1, 1, 0, 0, 0, 0, 1, 1, 1, 0, 0, 1, 1, 1, 0, 1, 1, 1, 0, 1],\n",
       "      dtype=uint8)"
      ]
     },
     "execution_count": 64,
     "metadata": {},
     "output_type": "execute_result"
    }
   ],
   "source": [
    "preds"
   ]
  },
  {
   "cell_type": "code",
   "execution_count": 65,
   "metadata": {},
   "outputs": [],
   "source": [
    "from sklearn.metrics import accuracy_score, confusion_matrix, classification_report"
   ]
  },
  {
   "cell_type": "code",
   "execution_count": 66,
   "metadata": {},
   "outputs": [
    {
     "data": {
      "text/plain": [
       "array([[14,  2],\n",
       "       [ 2, 24]], dtype=int64)"
      ]
     },
     "execution_count": 66,
     "metadata": {},
     "output_type": "execute_result"
    }
   ],
   "source": [
    "confusion_matrix(y_eval,preds)"
   ]
  },
  {
   "cell_type": "code",
   "execution_count": 68,
   "metadata": {},
   "outputs": [
    {
     "name": "stdout",
     "output_type": "stream",
     "text": [
      "              precision    recall  f1-score   support\n",
      "\n",
      "           0       0.88      0.88      0.88        16\n",
      "           1       0.92      0.92      0.92        26\n",
      "\n",
      "    accuracy                           0.90        42\n",
      "   macro avg       0.90      0.90      0.90        42\n",
      "weighted avg       0.90      0.90      0.90        42\n",
      "\n"
     ]
    }
   ],
   "source": [
    "print(classification_report(y_eval,preds))"
   ]
  }
 ],
 "metadata": {
  "kernelspec": {
   "display_name": "Python 3",
   "language": "python",
   "name": "python3"
  },
  "language_info": {
   "codemirror_mode": {
    "name": "ipython",
    "version": 3
   },
   "file_extension": ".py",
   "mimetype": "text/x-python",
   "name": "python",
   "nbconvert_exporter": "python",
   "pygments_lexer": "ipython3",
   "version": "3.8.3"
  }
 },
 "nbformat": 4,
 "nbformat_minor": 4
}
